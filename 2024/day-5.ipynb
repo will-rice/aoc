{
 "cells": [
  {
   "cell_type": "code",
   "execution_count": 1,
   "id": "accad5c4-8340-49d0-98a0-2d385fa867a5",
   "metadata": {
    "execution": {
     "iopub.execute_input": "2024-12-05T18:03:43.015194Z",
     "iopub.status.busy": "2024-12-05T18:03:43.015099Z",
     "iopub.status.idle": "2024-12-05T18:03:43.022100Z",
     "shell.execute_reply": "2024-12-05T18:03:43.021743Z",
     "shell.execute_reply.started": "2024-12-05T18:03:43.015184Z"
    }
   },
   "outputs": [
    {
     "data": {
      "text/plain": [
       "143"
      ]
     },
     "execution_count": 1,
     "metadata": {},
     "output_type": "execute_result"
    }
   ],
   "source": [
    "from collections import defaultdict\n",
    "\n",
    "test = \"\"\"47|53\n",
    "97|13\n",
    "97|61\n",
    "97|47\n",
    "75|29\n",
    "61|13\n",
    "75|53\n",
    "29|13\n",
    "97|29\n",
    "53|29\n",
    "61|53\n",
    "97|53\n",
    "61|29\n",
    "47|13\n",
    "75|47\n",
    "97|75\n",
    "47|61\n",
    "75|61\n",
    "47|29\n",
    "75|13\n",
    "53|13\n",
    "\n",
    "75,47,61,53,29\n",
    "97,61,53,29,13\n",
    "75,29,13\n",
    "75,97,47,61,53\n",
    "61,13,29\n",
    "97,13,75,29,47\"\"\"\n",
    "\n",
    "\n",
    "rules, pages = test.split(\"\\n\\n\")\n",
    "rules, pages = rules.split(\"\\n\"), pages.split(\"\\n\")\n",
    "\n",
    "\n",
    "def solve(rules, pages):\n",
    "    rule_map = defaultdict(set)\n",
    "    for row in rules:\n",
    "        first, second = row.split(\"|\")\n",
    "        rule_map[first].add(second)\n",
    "\n",
    "    valid_pages = []\n",
    "    for page in pages:\n",
    "        numbers = page.split(\",\")\n",
    "        valid = []\n",
    "        for i in range(len(numbers) - 1):\n",
    "            if all(\n",
    "                numbers[j] in rule_map[numbers[i]] for j in range(i + 1, len(numbers))\n",
    "            ):\n",
    "                valid.append(True)\n",
    "            else:\n",
    "                valid.append(False)\n",
    "        if all(valid):\n",
    "            valid_pages.append(numbers)\n",
    "    total = 0\n",
    "    for page in valid_pages:\n",
    "        total += int(page[len(page) // 2])\n",
    "    return total\n",
    "\n",
    "\n",
    "solve(rules, pages)"
   ]
  },
  {
   "cell_type": "code",
   "execution_count": 2,
   "id": "c6477222-c9fc-4538-b8ff-2c196f263414",
   "metadata": {
    "execution": {
     "iopub.execute_input": "2024-12-05T18:03:43.022839Z",
     "iopub.status.busy": "2024-12-05T18:03:43.022673Z",
     "iopub.status.idle": "2024-12-05T18:03:43.028971Z",
     "shell.execute_reply": "2024-12-05T18:03:43.028698Z",
     "shell.execute_reply.started": "2024-12-05T18:03:43.022826Z"
    }
   },
   "outputs": [
    {
     "data": {
      "text/plain": [
       "5452"
      ]
     },
     "execution_count": 2,
     "metadata": {},
     "output_type": "execute_result"
    }
   ],
   "source": [
    "with open(\"data/5.txt\") as file:\n",
    "    rules, pages = file.read().split(\"\\n\\n\")\n",
    "    rules, pages = rules.split(\"\\n\"), pages.split(\"\\n\")\n",
    "\n",
    "solve(rules, pages)"
   ]
  },
  {
   "cell_type": "code",
   "execution_count": 3,
   "id": "f1d5573c-65ce-43a1-bbe3-c6aaa19a6d63",
   "metadata": {
    "execution": {
     "iopub.execute_input": "2024-12-05T18:03:43.029670Z",
     "iopub.status.busy": "2024-12-05T18:03:43.029398Z",
     "iopub.status.idle": "2024-12-05T18:03:43.064070Z",
     "shell.execute_reply": "2024-12-05T18:03:43.063659Z",
     "shell.execute_reply.started": "2024-12-05T18:03:43.029660Z"
    }
   },
   "outputs": [
    {
     "data": {
      "text/plain": [
       "123"
      ]
     },
     "execution_count": 3,
     "metadata": {},
     "output_type": "execute_result"
    }
   ],
   "source": [
    "import functools\n",
    "\n",
    "test = \"\"\"47|53\n",
    "97|13\n",
    "97|61\n",
    "97|47\n",
    "75|29\n",
    "61|13\n",
    "75|53\n",
    "29|13\n",
    "97|29\n",
    "53|29\n",
    "61|53\n",
    "97|53\n",
    "61|29\n",
    "47|13\n",
    "75|47\n",
    "97|75\n",
    "47|61\n",
    "75|61\n",
    "47|29\n",
    "75|13\n",
    "53|13\n",
    "\n",
    "75,47,61,53,29\n",
    "97,61,53,29,13\n",
    "75,29,13\n",
    "75,97,47,61,53\n",
    "61,13,29\n",
    "97,13,75,29,47\"\"\"\n",
    "\n",
    "rules, pages = test.split(\"\\n\\n\")\n",
    "rules, pages = rules.split(\"\\n\"), pages.split(\"\\n\")\n",
    "\n",
    "\n",
    "def solve2(rules, pages):\n",
    "    rule_map = defaultdict(set)\n",
    "    for row in rules:\n",
    "        first, second = row.split(\"|\")\n",
    "        rule_map[first].add(second)\n",
    "\n",
    "    def cmp(x, y):\n",
    "        if y in rule_map[x]:\n",
    "            return -1\n",
    "        return 1\n",
    "\n",
    "    non_valid_pages = []\n",
    "    for page in pages:\n",
    "        numbers = page.split(\",\")\n",
    "        valid = []\n",
    "        for i in range(len(numbers) - 1):\n",
    "            if all(\n",
    "                numbers[j] in rule_map[numbers[i]] for j in range(i + 1, len(numbers))\n",
    "            ):\n",
    "                valid.append(True)\n",
    "            else:\n",
    "                valid.append(False)\n",
    "\n",
    "        if not all(valid):\n",
    "            non_valid_pages.append(sorted(numbers, key=functools.cmp_to_key(cmp)))\n",
    "\n",
    "    total = sum(int(page[len(page) // 2]) for page in non_valid_pages)\n",
    "\n",
    "    return total\n",
    "\n",
    "solve2(rules, pages)"
   ]
  },
  {
   "cell_type": "code",
   "execution_count": 4,
   "id": "03deedc1-e336-4085-8f97-81808bf31294",
   "metadata": {
    "execution": {
     "iopub.execute_input": "2024-12-05T18:03:43.064562Z",
     "iopub.status.busy": "2024-12-05T18:03:43.064463Z",
     "iopub.status.idle": "2024-12-05T18:03:43.070348Z",
     "shell.execute_reply": "2024-12-05T18:03:43.069915Z",
     "shell.execute_reply.started": "2024-12-05T18:03:43.064552Z"
    }
   },
   "outputs": [
    {
     "data": {
      "text/plain": [
       "4598"
      ]
     },
     "execution_count": 4,
     "metadata": {},
     "output_type": "execute_result"
    }
   ],
   "source": [
    "with open(\"data/5.txt\") as file:\n",
    "    rules, pages = file.read().split(\"\\n\\n\")\n",
    "    rules, pages = rules.split(\"\\n\"), pages.split(\"\\n\")\n",
    "\n",
    "solve2(rules, pages)"
   ]
  }
 ],
 "metadata": {
  "kernelspec": {
   "display_name": "Python 3 (ipykernel)",
   "language": "python",
   "name": "python3"
  },
  "language_info": {
   "codemirror_mode": {
    "name": "ipython",
    "version": 3
   },
   "file_extension": ".py",
   "mimetype": "text/x-python",
   "name": "python",
   "nbconvert_exporter": "python",
   "pygments_lexer": "ipython3",
   "version": "3.12.5"
  }
 },
 "nbformat": 4,
 "nbformat_minor": 5
}
