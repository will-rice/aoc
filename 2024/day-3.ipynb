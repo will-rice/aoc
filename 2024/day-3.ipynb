{
 "cells": [
  {
   "cell_type": "code",
   "execution_count": 34,
   "id": "cf55ace7-44ad-4d38-a121-c23c99ae598c",
   "metadata": {
    "execution": {
     "iopub.execute_input": "2024-12-03T16:46:41.047357Z",
     "iopub.status.busy": "2024-12-03T16:46:41.046917Z",
     "iopub.status.idle": "2024-12-03T16:46:41.056691Z",
     "shell.execute_reply": "2024-12-03T16:46:41.055927Z",
     "shell.execute_reply.started": "2024-12-03T16:46:41.047333Z"
    }
   },
   "outputs": [
    {
     "data": {
      "text/plain": [
       "161"
      ]
     },
     "execution_count": 34,
     "metadata": {},
     "output_type": "execute_result"
    }
   ],
   "source": [
    "import re\n",
    "\n",
    "test = [\"xmul(2,4)%&mul[3,7]!@^do_not_mul(5,5)+mul(32,64]then(mul(11,8)mul(8,5))\"]\n",
    "\n",
    "\n",
    "def total_matches(lines):\n",
    "    p = re.compile(r\"mul\\((\\d+)\\,(\\d+)\\)\")\n",
    "\n",
    "    total = 0\n",
    "\n",
    "    for line in lines:\n",
    "        for match in p.findall(line):\n",
    "            first, second = match\n",
    "            total += int(first) * int(second)\n",
    "    return total\n",
    "\n",
    "total_matches(test)"
   ]
  },
  {
   "cell_type": "code",
   "execution_count": 35,
   "id": "61284b37-b5b7-4117-8e06-328415122df0",
   "metadata": {
    "execution": {
     "iopub.execute_input": "2024-12-03T16:46:42.445911Z",
     "iopub.status.busy": "2024-12-03T16:46:42.443204Z",
     "iopub.status.idle": "2024-12-03T16:46:42.462369Z",
     "shell.execute_reply": "2024-12-03T16:46:42.461727Z",
     "shell.execute_reply.started": "2024-12-03T16:46:42.445870Z"
    }
   },
   "outputs": [
    {
     "data": {
      "text/plain": [
       "187825547"
      ]
     },
     "execution_count": 35,
     "metadata": {},
     "output_type": "execute_result"
    }
   ],
   "source": [
    "with open(\"data/3.txt\") as file:\n",
    "    lines = [l.strip() for l in file.readlines()]\n",
    "\n",
    "total_matches(lines)"
   ]
  },
  {
   "cell_type": "code",
   "execution_count": 39,
   "id": "b9dcd33a-a660-4ec3-82f5-dcc5122afa5d",
   "metadata": {
    "execution": {
     "iopub.execute_input": "2024-12-03T16:53:26.551599Z",
     "iopub.status.busy": "2024-12-03T16:53:26.550766Z",
     "iopub.status.idle": "2024-12-03T16:53:26.576610Z",
     "shell.execute_reply": "2024-12-03T16:53:26.575530Z",
     "shell.execute_reply.started": "2024-12-03T16:53:26.551553Z"
    }
   },
   "outputs": [
    {
     "data": {
      "text/plain": [
       "85508223"
      ]
     },
     "execution_count": 39,
     "metadata": {},
     "output_type": "execute_result"
    }
   ],
   "source": [
    "def second_solution(lines):\n",
    "    first_section = re.split(r\"don\\'t\\(\\)\", \"\".join(lines))[0]\n",
    "    other_enabled_sections = re.findall(r\"do\\(\\)(.*?)don\\'t\\(\\)\", \"\".join(lines))\n",
    "    return total_matches([first_section] + other_enabled_sections)\n",
    "\n",
    "second_solution(lines)"
   ]
  }
 ],
 "metadata": {
  "kernelspec": {
   "display_name": "Python 3 (ipykernel)",
   "language": "python",
   "name": "python3"
  },
  "language_info": {
   "codemirror_mode": {
    "name": "ipython",
    "version": 3
   },
   "file_extension": ".py",
   "mimetype": "text/x-python",
   "name": "python",
   "nbconvert_exporter": "python",
   "pygments_lexer": "ipython3",
   "version": "3.12.5"
  }
 },
 "nbformat": 4,
 "nbformat_minor": 5
}
