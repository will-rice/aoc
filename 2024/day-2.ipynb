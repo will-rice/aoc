{
 "cells": [
  {
   "cell_type": "code",
   "execution_count": 1,
   "id": "0d179bbc-bf67-4c9e-9f82-bad9a7c66a02",
   "metadata": {
    "execution": {
     "iopub.execute_input": "2024-12-02T15:28:42.989992Z",
     "iopub.status.busy": "2024-12-02T15:28:42.989817Z",
     "iopub.status.idle": "2024-12-02T15:28:42.996228Z",
     "shell.execute_reply": "2024-12-02T15:28:42.995849Z",
     "shell.execute_reply.started": "2024-12-02T15:28:42.989975Z"
    }
   },
   "outputs": [],
   "source": [
    "test = [\n",
    "    \"7 6 4 2 1\",\n",
    "    \"1 2 7 8 9\",\n",
    "    \"9 7 6 2 1\",\n",
    "    \"1 3 2 4 5\",\n",
    "    \"8 6 4 4 1\",\n",
    "    \"1 3 6 7 9\",\n",
    "]\n",
    "\n",
    "\n",
    "def count_safe(rows: list[str]) -> int:\n",
    "    rows = [list(map(int, r.split(\" \"))) for r in rows]\n",
    "\n",
    "    count = 0\n",
    "    for row in rows:\n",
    "        is_increasing = all((row[i] < row[i + 1] for i in range(len(row) - 1)))\n",
    "        is_decreasing = all((row[i] > row[i + 1] for i in range(len(row) - 1)))\n",
    "        gt_one_lt_three = all(\n",
    "            (3 >= abs(row[i + 1] - row[i]) >= 1 for i in range(len(row) - 1))\n",
    "        )\n",
    "\n",
    "        if (is_decreasing or is_increasing) and gt_one_lt_three:\n",
    "            count += 1\n",
    "    return count\n",
    "\n",
    "\n",
    "assert count_safe(test) == 2"
   ]
  },
  {
   "cell_type": "code",
   "execution_count": 2,
   "id": "fee897ed-b9e8-4808-a3b0-80f5b7a0809a",
   "metadata": {
    "execution": {
     "iopub.execute_input": "2024-12-02T15:28:42.996963Z",
     "iopub.status.busy": "2024-12-02T15:28:42.996798Z",
     "iopub.status.idle": "2024-12-02T15:28:43.005516Z",
     "shell.execute_reply": "2024-12-02T15:28:43.005278Z",
     "shell.execute_reply.started": "2024-12-02T15:28:42.996952Z"
    }
   },
   "outputs": [
    {
     "data": {
      "text/plain": [
       "379"
      ]
     },
     "execution_count": 2,
     "metadata": {},
     "output_type": "execute_result"
    }
   ],
   "source": [
    "with open(\"data/2.txt\") as file:\n",
    "    rows = [r.strip() for r in file.readlines()]\n",
    "\n",
    "\n",
    "count_safe(rows)"
   ]
  },
  {
   "cell_type": "code",
   "execution_count": 8,
   "id": "6a3510aa-1c9f-4d4a-a9b9-5c9bf670dd9e",
   "metadata": {
    "execution": {
     "iopub.execute_input": "2024-12-02T15:49:03.310197Z",
     "iopub.status.busy": "2024-12-02T15:49:03.309340Z",
     "iopub.status.idle": "2024-12-02T15:49:03.335139Z",
     "shell.execute_reply": "2024-12-02T15:49:03.334597Z",
     "shell.execute_reply.started": "2024-12-02T15:49:03.310092Z"
    }
   },
   "outputs": [
    {
     "data": {
      "text/plain": [
       "430"
      ]
     },
     "execution_count": 8,
     "metadata": {},
     "output_type": "execute_result"
    }
   ],
   "source": [
    "def count_increasing(row: list[int]) -> list[bool]:\n",
    "    return [row[i] < row[i + 1] for i in range(len(row) - 1)]\n",
    "\n",
    "\n",
    "def count_decreasing(row: list[int]) -> list[bool]:\n",
    "    return [row[i] > row[i + 1] for i in range(len(row) - 1)]\n",
    "\n",
    "\n",
    "def count_gt_one_lt_three(row: list[int]) -> list[bool]:\n",
    "    return [3 >= abs(row[i + 1] - row[i]) >= 1 for i in range(len(row) - 1)]\n",
    "\n",
    "\n",
    "def is_safe(\n",
    "    is_increasing: list[bool], is_decreasing: list[bool], gt_one_lt_three: list[bool]\n",
    ") -> bool:\n",
    "    return (all(is_decreasing) or all(is_increasing)) and all(gt_one_lt_three)\n",
    "\n",
    "\n",
    "def safe(report):\n",
    "    gaps = [report[i] - report[i + 1] for i in range(len(report) - 1)]\n",
    "    return (max(gaps) <= 3 and min(gaps) >= 1) or (max(gaps) <= -1 and min(gaps) >= -3)\n",
    "\n",
    "\n",
    "def safe_dampened(report):\n",
    "    return any(safe(report[:i] + report[i + 1 :]) for i in range(len(report)))\n",
    "\n",
    "\n",
    "def count_safe_2(rows: list[str]) -> int:\n",
    "    rows = [list(map(int, r.split(\" \"))) for r in rows]\n",
    "\n",
    "    count = 0\n",
    "    for row in rows:\n",
    "        if safe_dampened(row):\n",
    "            count += 1\n",
    "\n",
    "    return count\n",
    "\n",
    "\n",
    "count_safe_2(rows)"
   ]
  }
 ],
 "metadata": {
  "kernelspec": {
   "display_name": "Python 3 (ipykernel)",
   "language": "python",
   "name": "python3"
  },
  "language_info": {
   "codemirror_mode": {
    "name": "ipython",
    "version": 3
   },
   "file_extension": ".py",
   "mimetype": "text/x-python",
   "name": "python",
   "nbconvert_exporter": "python",
   "pygments_lexer": "ipython3",
   "version": "3.12.5"
  }
 },
 "nbformat": 4,
 "nbformat_minor": 5
}
