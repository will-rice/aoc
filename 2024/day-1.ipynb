{
 "cells": [
  {
   "cell_type": "code",
   "execution_count": 1,
   "id": "422a46b0-df4c-4ae8-be17-cd04c1768ca2",
   "metadata": {
    "execution": {
     "iopub.execute_input": "2024-12-01T14:32:37.841008Z",
     "iopub.status.busy": "2024-12-01T14:32:37.840789Z",
     "iopub.status.idle": "2024-12-01T14:32:37.847461Z",
     "shell.execute_reply": "2024-12-01T14:32:37.847121Z",
     "shell.execute_reply.started": "2024-12-01T14:32:37.840991Z"
    }
   },
   "outputs": [
    {
     "name": "stdout",
     "output_type": "stream",
     "text": [
      "[['3', '4'], ['4', '3'], ['2', '5'], ['1', '3'], ['3', '9']]\n",
      "6\n",
      "6\n",
      "[1, 2, 3, 3, 3]\n",
      "[3, 3, 3, 4, 5]\n"
     ]
    },
    {
     "data": {
      "text/plain": [
       "11"
      ]
     },
     "execution_count": 1,
     "metadata": {},
     "output_type": "execute_result"
    }
   ],
   "source": [
    "test = [\"3   4\",\n",
    "         \"4   3\",\n",
    "         \"2   5\",\n",
    "         \"1   3\",\n",
    "         \"3   9\",\n",
    "         \"3   3\"]\n",
    "test = [l.split(\"   \") for l in test]\n",
    "\n",
    "def solve_part_one(lines):\n",
    "    left = sorted(int(left) for left, right in lines)\n",
    "    right = sorted(int(right) for left, right in lines)\n",
    "    \n",
    "    total = 0\n",
    "    for l, r in zip(left, right, strict=False):\n",
    "        dist = abs(l-r)\n",
    "        total += dist\n",
    "    return total\n",
    "\n",
    "\n",
    "\n",
    "solve_part_one(test)"
   ]
  },
  {
   "cell_type": "code",
   "execution_count": 2,
   "id": "6a2fd088-4555-43d8-ade2-3b18e8aa3d74",
   "metadata": {
    "execution": {
     "iopub.execute_input": "2024-12-01T14:32:37.848013Z",
     "iopub.status.busy": "2024-12-01T14:32:37.847867Z",
     "iopub.status.idle": "2024-12-01T14:32:37.852218Z",
     "shell.execute_reply": "2024-12-01T14:32:37.851845Z",
     "shell.execute_reply.started": "2024-12-01T14:32:37.847995Z"
    }
   },
   "outputs": [
    {
     "name": "stdout",
     "output_type": "stream",
     "text": [
      "[['18102', '93258'], ['34171', '50404'], ['48236', '60718'], ['10441', '41669'], ['63428', '45329']]\n",
      "1000\n",
      "1000\n",
      "[10142, 10199, 10246, 10250, 10403]\n",
      "[10131, 10175, 10273, 10310, 10669]\n"
     ]
    },
    {
     "data": {
      "text/plain": [
       "2378066"
      ]
     },
     "execution_count": 2,
     "metadata": {},
     "output_type": "execute_result"
    }
   ],
   "source": [
    "with open(\"data/1.txt\") as file:\n",
    "    lines = [l.strip().split(\"   \") for l in file.readlines()]\n",
    "\n",
    "solve_part_one(lines)"
   ]
  },
  {
   "cell_type": "code",
   "execution_count": 6,
   "id": "752478b5-e039-4543-96ab-467f943bbe8f",
   "metadata": {
    "execution": {
     "iopub.execute_input": "2024-12-01T14:36:52.577938Z",
     "iopub.status.busy": "2024-12-01T14:36:52.577374Z",
     "iopub.status.idle": "2024-12-01T14:36:52.587290Z",
     "shell.execute_reply": "2024-12-01T14:36:52.586066Z",
     "shell.execute_reply.started": "2024-12-01T14:36:52.577900Z"
    }
   },
   "outputs": [
    {
     "data": {
      "text/plain": [
       "31"
      ]
     },
     "execution_count": 6,
     "metadata": {},
     "output_type": "execute_result"
    }
   ],
   "source": [
    "from collections import Counter\n",
    "\n",
    "def solve_part_two(lines):\n",
    "    left = sorted(int(left) for left, right in lines)\n",
    "    right = sorted(int(right) for left, right in lines)\n",
    "\n",
    "    left_counts = Counter(left)\n",
    "    right_counts = Counter(right)\n",
    "    \n",
    "    total = 0\n",
    "    for l, r in zip(left, right, strict=False):\n",
    "        dist = l * right_counts[l]\n",
    "        total += dist\n",
    "\n",
    "    return total\n",
    "\n",
    "\n",
    "solve_part_two(test)"
   ]
  },
  {
   "cell_type": "code",
   "execution_count": 7,
   "id": "ee648c55-b337-4474-af59-324b161b8041",
   "metadata": {
    "execution": {
     "iopub.execute_input": "2024-12-01T14:37:10.247634Z",
     "iopub.status.busy": "2024-12-01T14:37:10.247057Z",
     "iopub.status.idle": "2024-12-01T14:37:10.257210Z",
     "shell.execute_reply": "2024-12-01T14:37:10.256598Z",
     "shell.execute_reply.started": "2024-12-01T14:37:10.247604Z"
    }
   },
   "outputs": [
    {
     "data": {
      "text/plain": [
       "18934359"
      ]
     },
     "execution_count": 7,
     "metadata": {},
     "output_type": "execute_result"
    }
   ],
   "source": [
    "solve_part_two(lines)"
   ]
  }
 ],
 "metadata": {
  "kernelspec": {
   "display_name": "Python 3 (ipykernel)",
   "language": "python",
   "name": "python3"
  },
  "language_info": {
   "codemirror_mode": {
    "name": "ipython",
    "version": 3
   },
   "file_extension": ".py",
   "mimetype": "text/x-python",
   "name": "python",
   "nbconvert_exporter": "python",
   "pygments_lexer": "ipython3",
   "version": "3.12.5"
  }
 },
 "nbformat": 4,
 "nbformat_minor": 5
}
