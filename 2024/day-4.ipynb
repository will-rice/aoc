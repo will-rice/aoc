{
 "cells": [
  {
   "cell_type": "code",
   "execution_count": 1,
   "id": "5281fa30-db2f-4e54-91d6-fc0fa2acfc9a",
   "metadata": {
    "execution": {
     "iopub.execute_input": "2024-12-04T21:30:56.682717Z",
     "iopub.status.busy": "2024-12-04T21:30:56.682586Z",
     "iopub.status.idle": "2024-12-04T21:30:56.748960Z",
     "shell.execute_reply": "2024-12-04T21:30:56.748653Z",
     "shell.execute_reply.started": "2024-12-04T21:30:56.682702Z"
    }
   },
   "outputs": [
    {
     "data": {
      "text/plain": [
       "18"
      ]
     },
     "execution_count": 1,
     "metadata": {},
     "output_type": "execute_result"
    }
   ],
   "source": [
    "import numpy as np\n",
    "\n",
    "test = \"\"\"MMMSXXMASM\n",
    "MSAMXMSMSA\n",
    "AMXSXMAAMM\n",
    "MSAMASMSMX\n",
    "XMASAMXAMM\n",
    "XXAMMXXAMA\n",
    "SMSMSASXSS\n",
    "SAXAMASAAA\n",
    "MAMMMXMMMM\n",
    "MXMXAXMASX\"\"\"\n",
    "\n",
    "matrix = [list(row) for row in test.split(\"\\n\")]\n",
    "\n",
    "\n",
    "def count_xmas(matrix: list[list[str]]) -> int:\n",
    "    row_length = len(matrix)\n",
    "    column_length = len(matrix[0])\n",
    "    count = 0\n",
    "    for row in range(row_length):\n",
    "        for column in range(column_length):\n",
    "            if matrix[row][column] == \"X\":\n",
    "                for d_row in [-1, 0, 1]:\n",
    "                    for d_column in [-1, 0, 1]:\n",
    "\n",
    "                        if d_row == d_column == 0:\n",
    "                            continue\n",
    "\n",
    "                        if not (\n",
    "                            0 <= row + 3 * d_row < row_length\n",
    "                            and 0 <= column + 3 * d_column < column_length\n",
    "                        ):\n",
    "                            continue\n",
    "\n",
    "                        if (\n",
    "                            matrix[row + d_row][column + d_column] == \"M\"\n",
    "                            and matrix[row + d_row * 2][column + d_column * 2] == \"A\"\n",
    "                            and matrix[row + d_row * 3][column + d_column * 3] == \"S\"\n",
    "                        ):\n",
    "                            count += 1\n",
    "    return count\n",
    "\n",
    "\n",
    "count_xmas(matrix)"
   ]
  },
  {
   "cell_type": "code",
   "execution_count": 12,
   "id": "fd8bcbad-36e9-4e75-a06d-c7ef90a68646",
   "metadata": {
    "execution": {
     "iopub.execute_input": "2024-12-04T22:00:14.804227Z",
     "iopub.status.busy": "2024-12-04T22:00:14.803892Z",
     "iopub.status.idle": "2024-12-04T22:00:14.826823Z",
     "shell.execute_reply": "2024-12-04T22:00:14.826452Z",
     "shell.execute_reply.started": "2024-12-04T22:00:14.804206Z"
    }
   },
   "outputs": [
    {
     "data": {
      "text/plain": [
       "2406"
      ]
     },
     "execution_count": 12,
     "metadata": {},
     "output_type": "execute_result"
    }
   ],
   "source": [
    "with open(\"data/4.txt\") as file:\n",
    "    matrix = [list(l.strip()) for l in file.readlines()]\n",
    "\n",
    "count_xmas(matrix)"
   ]
  },
  {
   "cell_type": "code",
   "execution_count": 17,
   "id": "35c5aaf5-09cf-41f0-9d9a-5683f9a10597",
   "metadata": {
    "execution": {
     "iopub.execute_input": "2024-12-04T22:06:56.123035Z",
     "iopub.status.busy": "2024-12-04T22:06:56.122638Z",
     "iopub.status.idle": "2024-12-04T22:06:56.138864Z",
     "shell.execute_reply": "2024-12-04T22:06:56.138138Z",
     "shell.execute_reply.started": "2024-12-04T22:06:56.123011Z"
    }
   },
   "outputs": [
    {
     "data": {
      "text/plain": [
       "9"
      ]
     },
     "execution_count": 17,
     "metadata": {},
     "output_type": "execute_result"
    }
   ],
   "source": [
    "test = \"\"\"MMMSXXMASM\n",
    "MSAMXMSMSA\n",
    "AMXSXMAAMM\n",
    "MSAMASMSMX\n",
    "XMASAMXAMM\n",
    "XXAMMXXAMA\n",
    "SMSMSASXSS\n",
    "SAXAMASAAA\n",
    "MAMMMXMMMM\n",
    "MXMXAXMASX\"\"\"\n",
    "\n",
    "matrix = [list(row) for row in test.split(\"\\n\")]\n",
    "\n",
    "\n",
    "def count_xmas_2(matrix: list[list[str]]) -> int:\n",
    "    matches = {\"MMSS\", \"MSSM\", \"SSMM\", \"SMMS\"}\n",
    "    row_length = len(matrix)\n",
    "    column_length = len(matrix[0])\n",
    "    count = 0\n",
    "    for row in range(1, row_length - 1):\n",
    "        for column in range(1, column_length - 1):\n",
    "\n",
    "            if matrix[row][column] == \"A\":\n",
    "\n",
    "                top_left = matrix[row - 1][column - 1]\n",
    "                top_right = matrix[row - 1][column + 1]\n",
    "                bottom_right = matrix[row + 1][column + 1]\n",
    "                bottom_left = matrix[row + 1][column - 1]\n",
    "\n",
    "                if \"\".join([top_left, top_right, bottom_right, bottom_left]) in matches:\n",
    "                    count += 1\n",
    "\n",
    "    return count\n",
    "\n",
    "\n",
    "count_xmas_2(matrix)"
   ]
  },
  {
   "cell_type": "code",
   "execution_count": 18,
   "id": "cded4b83-8f24-4fa2-8b6e-fbcf851be9d7",
   "metadata": {
    "execution": {
     "iopub.execute_input": "2024-12-04T22:06:59.100462Z",
     "iopub.status.busy": "2024-12-04T22:06:59.099726Z",
     "iopub.status.idle": "2024-12-04T22:06:59.118549Z",
     "shell.execute_reply": "2024-12-04T22:06:59.117714Z",
     "shell.execute_reply.started": "2024-12-04T22:06:59.100409Z"
    }
   },
   "outputs": [
    {
     "data": {
      "text/plain": [
       "1807"
      ]
     },
     "execution_count": 18,
     "metadata": {},
     "output_type": "execute_result"
    }
   ],
   "source": [
    "with open(\"data/4.txt\") as file:\n",
    "    matrix = [list(l.strip()) for l in file.readlines()]\n",
    "\n",
    "count_xmas_2(matrix)"
   ]
  }
 ],
 "metadata": {
  "kernelspec": {
   "display_name": "Python 3 (ipykernel)",
   "language": "python",
   "name": "python3"
  },
  "language_info": {
   "codemirror_mode": {
    "name": "ipython",
    "version": 3
   },
   "file_extension": ".py",
   "mimetype": "text/x-python",
   "name": "python",
   "nbconvert_exporter": "python",
   "pygments_lexer": "ipython3",
   "version": "3.12.5"
  }
 },
 "nbformat": 4,
 "nbformat_minor": 5
}
