{
 "cells": [
  {
   "cell_type": "markdown",
   "id": "26cac63c-b177-45bf-b420-d239d9e729b1",
   "metadata": {},
   "source": [
    "# Day 4"
   ]
  },
  {
   "cell_type": "code",
   "execution_count": 1,
   "id": "5853b216-daa2-44b5-9e3a-f380fb312046",
   "metadata": {},
   "outputs": [],
   "source": [
    "import numpy as np\n",
    "import tensorflow as tf\n",
    "\n",
    "with open(\"data/day-4.1.txt\") as file:\n",
    "    draws = np.array([l.strip().split(\",\") for l in file.readlines()]).astype(np.int32)[\n",
    "        0\n",
    "    ]\n",
    "\n",
    "with open(\"data/day-4.2.txt\") as file:\n",
    "    lines = [l.strip() for l in file.readlines() if l.strip()]"
   ]
  },
  {
   "cell_type": "markdown",
   "id": "28254ef0-03c3-483a-9d6e-f00130b1550d",
   "metadata": {},
   "source": [
    "## Part 1"
   ]
  },
  {
   "cell_type": "code",
   "execution_count": 2,
   "id": "aa03cb2a-df8a-45dc-ad6a-13067e4ebe21",
   "metadata": {},
   "outputs": [
    {
     "data": {
      "text/plain": [
       "10680"
      ]
     },
     "execution_count": 2,
     "metadata": {},
     "output_type": "execute_result"
    }
   ],
   "source": [
    "boards = np.array(lines)\n",
    "boards = np.array(\n",
    "    [[value for value in row.split(\" \") if value] for row in boards]\n",
    ").astype(np.int32)\n",
    "boards = np.split(boards, len(boards) // 5)\n",
    "\n",
    "found = False\n",
    "# iterate through the draws\n",
    "for draw in draws:\n",
    "    # iterate through the boards\n",
    "    for board in boards:\n",
    "        # mark drawn numbers on the board\n",
    "        board[board == draw] = -100\n",
    "        # determine if board (row) or board (column) is complete\n",
    "        if (board == -100).all(0).any() or (board == -100).all(1).any():\n",
    "                found = True\n",
    "                break\n",
    "        # stop iterating through boards\n",
    "        if found:\n",
    "            break\n",
    "    # stop drawing numbers\n",
    "    if found:\n",
    "        break\n",
    "\n",
    "\n",
    "# remove all marked numbers from the board\n",
    "board = board[board != -100]\n",
    "\n",
    "board.sum() * draw"
   ]
  },
  {
   "cell_type": "markdown",
   "id": "0feb1558-551e-4502-bb14-7055087eb1a3",
   "metadata": {},
   "source": [
    "## Part 2"
   ]
  },
  {
   "cell_type": "code",
   "execution_count": 3,
   "id": "18e55eb7-0449-45fc-8af9-fbbac0e0254a",
   "metadata": {},
   "outputs": [
    {
     "data": {
      "text/plain": [
       "31892"
      ]
     },
     "execution_count": 3,
     "metadata": {},
     "output_type": "execute_result"
    }
   ],
   "source": [
    "boards = np.array(lines)\n",
    "boards = np.array(\n",
    "    [[value for value in row.split(\" \") if value] for row in boards]\n",
    ").astype(np.int32)\n",
    "boards = np.split(boards, len(boards) // 5)\n",
    "\n",
    "found = False\n",
    "# iterate through the draws\n",
    "for draw in draws:\n",
    "    # iterate through the boards\n",
    "    for board in boards.copy():\n",
    "        # mark drawn numbers on the board\n",
    "        board[board == draw] = -100\n",
    "        # determine if board (row) or board (column) is complete\n",
    "        if (board == -100).all(0).any() or (board == -100).all(1).any():\n",
    "            boards = [b for b in boards if b is not board]\n",
    "        if len(boards) == 0:\n",
    "            found = True\n",
    "            break\n",
    "\n",
    "    # stop drawing numbers\n",
    "    if found:\n",
    "        break\n",
    "\n",
    "\n",
    "# remove all marked numbers from the board\n",
    "board = board[board != -100]\n",
    "\n",
    "board.sum() * draw"
   ]
  }
 ],
 "metadata": {
  "kernelspec": {
   "display_name": "kaggle",
   "language": "python",
   "name": "kaggle"
  },
  "language_info": {
   "codemirror_mode": {
    "name": "ipython",
    "version": 3
   },
   "file_extension": ".py",
   "mimetype": "text/x-python",
   "name": "python",
   "nbconvert_exporter": "python",
   "pygments_lexer": "ipython3",
   "version": "3.8.7"
  }
 },
 "nbformat": 4,
 "nbformat_minor": 5
}
