{
 "cells": [
  {
   "cell_type": "markdown",
   "id": "7ee1770c-5c5d-4104-a939-83193a8ad765",
   "metadata": {},
   "source": [
    "# Day 6\n",
    "\n",
    "The sea floor is getting steeper. Maybe the sleigh keys got carried this way?\n",
    "\n",
    "A massive school of glowing lanternfish swims past. They must spawn quickly to reach such large numbers - maybe exponentially quickly? You should model their growth rate to be sure.\n",
    "\n",
    "Although you know nothing about this specific species of lanternfish, you make some guesses about their attributes. Surely, each lanternfish creates a new lanternfish once every 7 days.\n",
    "\n",
    "However, this process isn't necessarily synchronized between every lanternfish - one lanternfish might have 2 days left until it creates another lanternfish, while another might have 4. So, you can model each fish as a single number that represents the number of days until it creates a new lanternfish.\n",
    "\n",
    "Furthermore, you reason, a new lanternfish would surely need slightly longer before it's capable of producing more lanternfish: two more days for its first cycle.\n",
    "\n",
    "So, suppose you have a lanternfish with an internal timer value of 3:\n",
    "\n",
    "After one day, its internal timer would become 2.\n",
    "After another day, its internal timer would become 1.\n",
    "After another day, its internal timer would become 0.\n",
    "After another day, its internal timer would reset to 6, and it would create a new lanternfish with an internal timer of 8.\n",
    "After another day, the first lanternfish would have an internal timer of 5, and the second lanternfish would have an internal timer of 7.\n",
    "A lanternfish that creates a new fish resets its timer to 6, not 7 (because 0 is included as a valid timer value). The new lanternfish starts with an internal timer of 8 and does not start counting down until the next day.\n",
    "\n",
    "Realizing what you're trying to do, the submarine automatically produces a list of the ages of several hundred nearby lanternfish (your puzzle input). For example, suppose you were given the following list:\n",
    "\n",
    "3,4,3,1,2\n",
    "This list means that the first fish has an internal timer of 3, the second fish has an internal timer of 4, and so on until the fifth fish, which has an internal timer of 2. Simulating these fish over several days would proceed as follows:\n",
    "\n",
    "```\n",
    "Initial state: 3,4,3,1,2\n",
    "After  1 day:  2,3,2,0,1\n",
    "After  2 days: 1,2,1,6,0,8\n",
    "After  3 days: 0,1,0,5,6,7,8\n",
    "After  4 days: 6,0,6,4,5,6,7,8,8\n",
    "After  5 days: 5,6,5,3,4,5,6,7,7,8\n",
    "After  6 days: 4,5,4,2,3,4,5,6,6,7\n",
    "After  7 days: 3,4,3,1,2,3,4,5,5,6\n",
    "After  8 days: 2,3,2,0,1,2,3,4,4,5\n",
    "After  9 days: 1,2,1,6,0,1,2,3,3,4,8\n",
    "After 10 days: 0,1,0,5,6,0,1,2,2,3,7,8\n",
    "After 11 days: 6,0,6,4,5,6,0,1,1,2,6,7,8,8,8\n",
    "After 12 days: 5,6,5,3,4,5,6,0,0,1,5,6,7,7,7,8,8\n",
    "After 13 days: 4,5,4,2,3,4,5,6,6,0,4,5,6,6,6,7,7,8,8\n",
    "After 14 days: 3,4,3,1,2,3,4,5,5,6,3,4,5,5,5,6,6,7,7,8\n",
    "After 15 days: 2,3,2,0,1,2,3,4,4,5,2,3,4,4,4,5,5,6,6,7\n",
    "After 16 days: 1,2,1,6,0,1,2,3,3,4,1,2,3,3,3,4,4,5,5,6,8\n",
    "After 17 days: 0,1,0,5,6,0,1,2,2,3,0,1,2,2,2,3,3,4,4,5,7,8\n",
    "After 18 days: 6,0,6,4,5,6,0,1,1,2,6,0,1,1,1,2,2,3,3,4,6,7,8,8,8,8\n",
    "Each day, a 0 becomes a 6 and adds a new 8 to the end of the list, while each other number decreases by 1 if it was present at the start of the day.\n",
    "```\n",
    "\n",
    "In this example, after 18 days, there are a total of 26 fish. After 80 days, there would be a total of 5934."
   ]
  },
  {
   "cell_type": "code",
   "execution_count": 1,
   "id": "72622701-a8f6-4cbf-8d4e-086d4eae2b77",
   "metadata": {},
   "outputs": [
    {
     "data": {
      "text/plain": [
       "[1, 3, 4, 1, 1]"
      ]
     },
     "execution_count": 1,
     "metadata": {},
     "output_type": "execute_result"
    }
   ],
   "source": [
    "sample_input = [3, 4, 3, 1, 2]\n",
    "\n",
    "with open(\"data/day-6.txt\") as file:\n",
    "    lines = [[int(i) for i in line.strip().split(\",\")] for line in file.readlines()][0]\n",
    "\n",
    "lines[:5]"
   ]
  },
  {
   "cell_type": "markdown",
   "id": "63cf824d-c540-4f44-b799-3f2aacf6efc2",
   "metadata": {},
   "source": [
    "## Part 1\n",
    "\n",
    "Find a way to simulate lanternfish. How many lanternfish would there be after 80 days?"
   ]
  },
  {
   "cell_type": "code",
   "execution_count": 2,
   "id": "d25b967b-1fff-4a04-ba8c-c4d6b5b22c63",
   "metadata": {},
   "outputs": [
    {
     "data": {
      "application/vnd.jupyter.widget-view+json": {
       "model_id": "f8c96599524c4d9b96d3f74ebdd5c8a3",
       "version_major": 2,
       "version_minor": 0
      },
      "text/plain": [
       "  0%|          | 0/18 [00:00<?, ?it/s]"
      ]
     },
     "metadata": {},
     "output_type": "display_data"
    }
   ],
   "source": [
    "from tqdm.notebook import tqdm\n",
    "\n",
    "\n",
    "class Fish:\n",
    "    def __init__(self, timer):\n",
    "        self.timer = timer\n",
    "\n",
    "    def age(self):\n",
    "        self.timer -= 1\n",
    "\n",
    "    @classmethod\n",
    "    def spawn(cls):\n",
    "        return cls(timer=8)\n",
    "\n",
    "\n",
    "def run_simulation(school, num_days):\n",
    "    \"\"\"Run a fish spawning simulation.\"\"\"\n",
    "    for i in tqdm(range(num_days)):\n",
    "\n",
    "        babies = []\n",
    "        for fish in school:\n",
    "\n",
    "            if fish.timer == 0:\n",
    "                fish.timer = 6\n",
    "                new_fish = fish.spawn()\n",
    "                babies.append(new_fish)\n",
    "            else:\n",
    "                fish.age()\n",
    "\n",
    "        school.extend(babies)\n",
    "\n",
    "    return school\n",
    "\n",
    "\n",
    "test_school = [Fish(i) for i in sample_input]\n",
    "\n",
    "\n",
    "test_total = run_simulation(test_school, num_days=18)\n",
    "test_population = len(test_total)\n",
    "assert test_population == 26"
   ]
  },
  {
   "cell_type": "code",
   "execution_count": 3,
   "id": "a219a223-c7c9-44f5-a0ce-aba0963f2a06",
   "metadata": {},
   "outputs": [
    {
     "data": {
      "application/vnd.jupyter.widget-view+json": {
       "model_id": "d52a601623ac41fc96b97572b6a4a328",
       "version_major": 2,
       "version_minor": 0
      },
      "text/plain": [
       "  0%|          | 0/80 [00:00<?, ?it/s]"
      ]
     },
     "metadata": {},
     "output_type": "display_data"
    },
    {
     "data": {
      "text/plain": [
       "390011"
      ]
     },
     "execution_count": 3,
     "metadata": {},
     "output_type": "execute_result"
    }
   ],
   "source": [
    "school = [Fish(line) for line in lines]\n",
    "\n",
    "total = run_simulation(school, num_days=80)\n",
    "population = len(total)\n",
    "population"
   ]
  },
  {
   "cell_type": "markdown",
   "id": "b9b3a0d6-76b3-4a15-9a09-e2be15b7e272",
   "metadata": {},
   "source": [
    "## Part 2\n",
    "\n",
    "Suppose the lanternfish live forever and have unlimited food and space. Would they take over the entire ocean?\n",
    "\n",
    "After 256 days in the example above, there would be a total of `26984457539` lanternfish!\n",
    "\n",
    "How many lanternfish would there be after 256 days?\n",
    "\n",
    "\n",
    "\n",
    "### Notes (Thought Process)\n",
    "- The solution for Part 1 doesn't work because we would quickly run out of memory if storing all the fish.\n",
    "- So how do we get an accurate count without storing all the fish?\n",
    "- Thus far a running sum seems like a good solution. \n",
    "- We know it takes 8 days for each fish to reproduce. \n",
    "- Can we keep track of the number of fish and the internal states without actually having all of the fish?\n",
    "- If we hold the number of fish at each state in a cohort, we know when that cohort will reproduce. We can also keep track of the aging by moving the fish counts down one each day. "
   ]
  },
  {
   "cell_type": "code",
   "execution_count": 25,
   "id": "acffccc1-c118-41f0-925d-e9fc2f6d0aa2",
   "metadata": {},
   "outputs": [
    {
     "name": "stdout",
     "output_type": "stream",
     "text": [
      "{0: 0, 1: 1, 2: 1, 3: 2, 4: 1, 5: 0, 6: 0, 7: 0}\n",
      "{0: 0, 1: 2, 2: 1, 3: 1, 4: 1, 5: 0, 6: 0, 7: 0}\n"
     ]
    }
   ],
   "source": [
    "school = {\n",
    "    0: 0,\n",
    "    1: 0,\n",
    "    2: 0,\n",
    "    3: 0,\n",
    "    4: 0,\n",
    "    5: 0,\n",
    "    6: 0,\n",
    "    7: 0,\n",
    "}\n",
    "\n",
    "def swap(school, indices):\n",
    "    one, two = indices\n",
    "    temp = school[one]\n",
    "    school[one] = school[two]\n",
    "    school[two] = temp\n",
    "    return school\n",
    "\n",
    "for line in sample_input:\n",
    "    school[line]+=1\n",
    "\n",
    "\n",
    "\n",
    "for i in range(18):    \n",
    "    \n",
    "    if school.get(0):\n",
    "        school[6\n",
    "    school[0] = school.pop(6)\n",
    "    \n"
   ]
  }
 ],
 "metadata": {
  "kernelspec": {
   "display_name": "kaggle",
   "language": "python",
   "name": "kaggle"
  },
  "language_info": {
   "codemirror_mode": {
    "name": "ipython",
    "version": 3
   },
   "file_extension": ".py",
   "mimetype": "text/x-python",
   "name": "python",
   "nbconvert_exporter": "python",
   "pygments_lexer": "ipython3",
   "version": "3.8.7"
  }
 },
 "nbformat": 4,
 "nbformat_minor": 5
}
