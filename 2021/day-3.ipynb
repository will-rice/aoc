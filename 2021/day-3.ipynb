{
 "cells": [
  {
   "cell_type": "markdown",
   "id": "aa755284-ef33-4e52-a058-e7510d9623c6",
   "metadata": {},
   "source": [
    "# Day 3"
   ]
  },
  {
   "cell_type": "code",
   "execution_count": 31,
   "id": "fba2e113-5249-464b-b3cd-e50fb2a8610f",
   "metadata": {},
   "outputs": [
    {
     "data": {
      "text/plain": [
       "[1, 0, 1, 0, 1, 1, 1, 1, 1, 0, 0, 1]"
      ]
     },
     "execution_count": 31,
     "metadata": {},
     "output_type": "execute_result"
    }
   ],
   "source": [
    "with open(\"data/day-3.txt\") as file:\n",
    "    lines = [[int(value) for value in list(line.strip())] for line in file.readlines()]\n",
    "\n",
    "# 12 digit binary number\n",
    "lines[0]"
   ]
  },
  {
   "cell_type": "markdown",
   "id": "9e25807e-c18c-4c03-980b-7aa8e5fa156e",
   "metadata": {},
   "source": [
    "## Part 1"
   ]
  },
  {
   "cell_type": "code",
   "execution_count": 32,
   "id": "d5fefc85-2af6-4cb0-95a0-32f6f0691598",
   "metadata": {},
   "outputs": [
    {
     "data": {
      "text/plain": [
       "3882564"
      ]
     },
     "execution_count": 32,
     "metadata": {},
     "output_type": "execute_result"
    }
   ],
   "source": [
    "import pandas as pd\n",
    "\n",
    "df = pd.DataFrame(lines)\n",
    "\n",
    "gamma = []\n",
    "epsilon = []\n",
    "for column in df.columns:\n",
    "\n",
    "    ones, zeros = df[column].value_counts(sort=False)\n",
    "\n",
    "    if zeros > ones:\n",
    "        gamma.append(\"0\")\n",
    "        epsilon.append(\"1\")\n",
    "    else:\n",
    "        gamma.append(\"1\")\n",
    "        epsilon.append(\"0\")\n",
    "\n",
    "gamma = int(\"\".join(gamma), 2)\n",
    "epsilon = int(\"\".join(epsilon), 2)\n",
    "\n",
    "gamma * epsilon"
   ]
  },
  {
   "cell_type": "markdown",
   "id": "d7a6fc9b-4a5f-4588-89c5-3029c0b98c75",
   "metadata": {},
   "source": [
    "## Part 2"
   ]
  },
  {
   "cell_type": "code",
   "execution_count": 73,
   "id": "9db24d75-5ab4-47ff-a1ea-7d2084c9bf6b",
   "metadata": {},
   "outputs": [
    {
     "name": "stdout",
     "output_type": "stream",
     "text": [
      "['0', '1', '0', '1', '0', '0', '0', '1', '1', '0', '0', '1']\n",
      "['1', '0', '1', '0', '0', '0', '1', '0', '0', '0', '1', '0']\n"
     ]
    },
    {
     "data": {
      "text/plain": [
       "3385170"
      ]
     },
     "execution_count": 73,
     "metadata": {},
     "output_type": "execute_result"
    }
   ],
   "source": [
    "import pandas as pd\n",
    "\n",
    "df = pd.DataFrame(\n",
    "    lines, columns=[\"a\", \"b\", \"c\", \"d\", \"e\", \"f\", \"g\", \"h\", \"i\", \"j\", \"k\", \"l\"]\n",
    ")\n",
    "\n",
    "oxygen, carbon = df, df\n",
    "for column in df.columns:\n",
    "\n",
    "    if len(oxygen) > 1:\n",
    "        value_counts = oxygen[column].value_counts(sort=False).to_dict()\n",
    "        ones = value_counts.get(1, 0)\n",
    "        zeros = value_counts.get(0, 0)\n",
    "\n",
    "        if ones > zeros:\n",
    "            oxygen = oxygen[oxygen[column] == 1]\n",
    "        elif zeros > ones:\n",
    "            oxygen = oxygen[oxygen[column] == 0]\n",
    "        elif zeros == ones:\n",
    "            oxygen = oxygen[oxygen[column] == 1]\n",
    "\n",
    "    if len(carbon) > 1:\n",
    "        value_counts = carbon[column].value_counts(sort=False).to_dict()\n",
    "        ones = value_counts.get(1, 0)\n",
    "        zeros = value_counts.get(0, 0)\n",
    "\n",
    "        if ones > zeros:\n",
    "            carbon = carbon[carbon[column] == 0]\n",
    "        elif zeros > ones:\n",
    "            carbon = carbon[carbon[column] == 1]\n",
    "        elif zeros == ones:\n",
    "            carbon = carbon[carbon[column] == 0]\n",
    "\n",
    "oxygen = [str(i) for i in oxygen.values.tolist()[0]]\n",
    "carbon = [str(i) for i in carbon.values.tolist()[0]]\n",
    "oxygen = int(\"\".join(oxygen), 2)\n",
    "carbon = int(\"\".join(carbon), 2)\n",
    "\n",
    "result = oxygen * carbon\n",
    "result"
   ]
  }
 ],
 "metadata": {
  "kernelspec": {
   "display_name": "kaggle",
   "language": "python",
   "name": "kaggle"
  },
  "language_info": {
   "codemirror_mode": {
    "name": "ipython",
    "version": 3
   },
   "file_extension": ".py",
   "mimetype": "text/x-python",
   "name": "python",
   "nbconvert_exporter": "python",
   "pygments_lexer": "ipython3",
   "version": "3.8.7"
  }
 },
 "nbformat": 4,
 "nbformat_minor": 5
}
