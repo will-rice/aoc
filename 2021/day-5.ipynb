{
 "cells": [
  {
   "cell_type": "markdown",
   "id": "1f187aba-8cf7-405c-906a-28a2004dcc41",
   "metadata": {},
   "source": [
    "# Day 5"
   ]
  },
  {
   "cell_type": "code",
   "execution_count": 1,
   "id": "b4c44a42-28bf-4bec-9b1b-1888a105c29f",
   "metadata": {},
   "outputs": [
    {
     "data": {
      "text/plain": [
       "'510,771 -> 510,322'"
      ]
     },
     "execution_count": 1,
     "metadata": {},
     "output_type": "execute_result"
    }
   ],
   "source": [
    "import numpy as np\n",
    "\n",
    "with open(\"data/day-5.txt\") as file:\n",
    "    lines = [l.strip() for l in file.readlines()]\n",
    "\n",
    "# coordinates\n",
    "lines[0]"
   ]
  },
  {
   "cell_type": "markdown",
   "id": "b8d686aa-7daa-4811-b535-e2f611b33648",
   "metadata": {},
   "source": [
    "## Part 1"
   ]
  },
  {
   "cell_type": "code",
   "execution_count": 2,
   "id": "e2273b64-fb7b-41aa-9fc9-b7b7b42e6ab4",
   "metadata": {},
   "outputs": [
    {
     "data": {
      "text/plain": [
       "6397"
      ]
     },
     "execution_count": 2,
     "metadata": {},
     "output_type": "execute_result"
    }
   ],
   "source": [
    "\n",
    "test = [\n",
    "    \"0,9 -> 5,9\",\n",
    "    \"8,0 -> 0,8\",\n",
    "    \"9,4 -> 3,4\",\n",
    "    \"2,2 -> 2,1\",\n",
    "    \"7,0 -> 7,4\",\n",
    "    \"6,4 -> 2,0\",\n",
    "    \"0,9 -> 2,9\",\n",
    "    \"3,4 -> 1,4\",\n",
    "    \"0,0 -> 8,8\",\n",
    "    \"5,5 -> 8,2\",\n",
    "]\n",
    "\n",
    "\n",
    "def make_coords(line):\n",
    "    xy1, xy2 = line.split(\" -> \")\n",
    "    x1, y1 = xy1.split(\",\")\n",
    "    x2, y2 = xy2.split(\",\")\n",
    "    return int(x1), int(y1), int(x2), int(y2)\n",
    "\n",
    "\n",
    "coords = [make_coords(line) for line in lines]\n",
    "diagram = np.array([[0] * (np.max(coords) + 1) for i in range(np.max(coords) + 1)])\n",
    "\n",
    "for coord in coords:\n",
    "    x1, y1, x2, y2 = coord\n",
    "\n",
    "    if y1 == y2:\n",
    "        diagram[y1, x2 : x1 + 1] += 1\n",
    "        diagram[y1, x1 : x2 + 1] += 1\n",
    "\n",
    "    if x1 == x2:\n",
    "        diagram[y2 : y1 + 1, x1] += 1\n",
    "        diagram[y1 : y2 + 1, x1] += 1\n",
    "\n",
    "\n",
    "\n",
    "len(diagram[diagram > 1])"
   ]
  },
  {
   "cell_type": "markdown",
   "id": "1ae7531b-4f83-44ac-b271-4561662767a9",
   "metadata": {},
   "source": [
    "## Part 2"
   ]
  },
  {
   "cell_type": "code",
   "execution_count": 6,
   "id": "b9ab3ca9-c4b1-4f2d-a667-75dd5ac799d2",
   "metadata": {},
   "outputs": [
    {
     "data": {
      "text/plain": [
       "array([[0, 0, 0, 0, 0, 0, 0, 1, 0, 0],\n",
       "       [0, 0, 1, 0, 0, 0, 0, 1, 0, 0],\n",
       "       [0, 0, 1, 0, 0, 0, 0, 1, 0, 0],\n",
       "       [0, 0, 0, 0, 0, 0, 0, 1, 0, 0],\n",
       "       [0, 1, 1, 2, 1, 1, 1, 2, 1, 1],\n",
       "       [0, 0, 0, 0, 0, 0, 0, 0, 0, 0],\n",
       "       [0, 0, 0, 0, 0, 0, 0, 0, 0, 0],\n",
       "       [0, 0, 0, 0, 0, 0, 0, 0, 0, 0],\n",
       "       [0, 0, 0, 0, 0, 0, 0, 0, 0, 0],\n",
       "       [2, 2, 2, 1, 1, 1, 0, 0, 0, 0]])"
      ]
     },
     "execution_count": 6,
     "metadata": {},
     "output_type": "execute_result"
    }
   ],
   "source": [
    "test = [\n",
    "    \"0,9 -> 5,9\",\n",
    "    \"8,0 -> 0,8\",\n",
    "    \"9,4 -> 3,4\",\n",
    "    \"2,2 -> 2,1\",\n",
    "    \"7,0 -> 7,4\",\n",
    "    \"6,4 -> 2,0\",\n",
    "    \"0,9 -> 2,9\",\n",
    "    \"3,4 -> 1,4\",\n",
    "    \"0,0 -> 8,8\",\n",
    "    \"5,5 -> 8,2\",\n",
    "]\n",
    "\n",
    "\n",
    "coords = [make_coords(line) for line in test]\n",
    "diagram = np.array([[0] * (np.max(coords) + 1) for i in range(np.max(coords) + 1)])\n",
    "\n",
    "for coord in coords:\n",
    "    x1, y1, x2, y2 = coord\n",
    "\n",
    "    if y1 == y2:\n",
    "        diagram[y1, x2 : x1 + 1] += 1\n",
    "        diagram[y1, x1 : x2 + 1] += 1\n",
    "\n",
    "    if x1 == x2:\n",
    "        diagram[y2 : y1 + 1, x1] += 1\n",
    "        diagram[y1 : y2 + 1, x1] += 1\n",
    "\n",
    "\n",
    "\n",
    "len(diagram[diagram > 1])\n",
    "\n",
    "diagram"
   ]
  }
 ],
 "metadata": {
  "kernelspec": {
   "display_name": "kaggle",
   "language": "python",
   "name": "kaggle"
  },
  "language_info": {
   "codemirror_mode": {
    "name": "ipython",
    "version": 3
   },
   "file_extension": ".py",
   "mimetype": "text/x-python",
   "name": "python",
   "nbconvert_exporter": "python",
   "pygments_lexer": "ipython3",
   "version": "3.8.7"
  }
 },
 "nbformat": 4,
 "nbformat_minor": 5
}
