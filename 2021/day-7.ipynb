{
 "cells": [
  {
   "cell_type": "markdown",
   "id": "00519b65-b5b7-4c01-8d03-737fd9968085",
   "metadata": {},
   "source": [
    "# Day 7\n",
    "\n",
    "A giant whale has decided your submarine is its next meal, and it's much faster than you are. There's nowhere to run!\n",
    "\n",
    "Suddenly, a swarm of crabs (each in its own tiny submarine - it's too deep for them otherwise) zooms in to rescue you! They seem to be preparing to blast a hole in the ocean floor; sensors indicate a massive underground cave system just beyond where they're aiming!\n",
    "\n",
    "The crab submarines all need to be aligned before they'll have enough power to blast a large enough hole for your submarine to get through. However, it doesn't look like they'll be aligned before the whale catches you! Maybe you can help?\n",
    "\n",
    "There's one major catch - crab submarines can only move horizontally.\n",
    "\n",
    "You quickly make a list of the horizontal position of each crab (your puzzle input). Crab submarines have limited fuel, so you need to find a way to make all of their horizontal positions match while requiring them to spend as little fuel as possible.\n",
    "\n",
    "For example, consider the following horizontal positions:\n",
    "\n",
    "16,1,2,0,4,2,7,1,2,14\n",
    "This means there's a crab with horizontal position 16, a crab with horizontal position 1, and so on.\n",
    "\n",
    "Each change of 1 step in horizontal position of a single crab costs 1 fuel. You could choose any horizontal position to align them all on, but the one that costs the least fuel is horizontal position 2:\n",
    "\n",
    "```\n",
    "Move from 16 to 2: 14 fuel\n",
    "Move from 1 to 2: 1 fuel\n",
    "Move from 2 to 2: 0 fuel\n",
    "Move from 0 to 2: 2 fuel\n",
    "Move from 4 to 2: 2 fuel\n",
    "Move from 2 to 2: 0 fuel\n",
    "Move from 7 to 2: 5 fuel\n",
    "Move from 1 to 2: 1 fuel\n",
    "Move from 2 to 2: 0 fuel\n",
    "Move from 14 to 2: 12 fuel\n",
    "```\n",
    "\n",
    "This costs a total of 37 fuel. This is the cheapest possible outcome; more expensive outcomes include aligning at position 1 (41 fuel), position 3 (39 fuel), or position 10 (71 fuel)."
   ]
  },
  {
   "cell_type": "code",
   "execution_count": 1,
   "id": "938a4eb6-850a-4928-b428-47f308f7418c",
   "metadata": {},
   "outputs": [
    {
     "data": {
      "text/plain": [
       "[1101, 1, 29, 67, 1102]"
      ]
     },
     "execution_count": 1,
     "metadata": {},
     "output_type": "execute_result"
    }
   ],
   "source": [
    "with open(\"data/day-7.txt\") as file:\n",
    "    lines = [[int(n) for n in line.strip().split(\",\")] for line in file.readlines()][0]\n",
    "\n",
    "lines[:5]"
   ]
  },
  {
   "cell_type": "markdown",
   "id": "e9bdbe4b-a752-4ecf-985a-c6db65d2595c",
   "metadata": {},
   "source": [
    "## Sample"
   ]
  },
  {
   "cell_type": "code",
   "execution_count": 7,
   "id": "f24e54ea-946b-4a46-8c9c-4c6d76ec20b7",
   "metadata": {},
   "outputs": [],
   "source": [
    "sample_input = [16, 1, 2, 0, 4, 2, 7, 1, 2, 14]\n",
    "\n",
    "\n",
    "def get_minimum_fuel(inputs):\n",
    "    \"\"\"minimize the cost of moves to align the subs.\"\"\"\n",
    "    total_fuel = []\n",
    "    for position in range(max(inputs)):\n",
    "\n",
    "        fuel = []\n",
    "        for sample in inputs:\n",
    "            cost = abs(position - sample)\n",
    "            fuel.append(cost)\n",
    "\n",
    "        total_fuel.append(sum(fuel))\n",
    "\n",
    "    return min(total_fuel)\n",
    "\n",
    "\n",
    "assert get_minimum_fuel(sample_input) == 37"
   ]
  },
  {
   "cell_type": "markdown",
   "id": "5a6e8e50-9d4c-47b3-9499-2ed31d2c9b7a",
   "metadata": {},
   "source": [
    "## Part 1\n",
    "\n",
    "Determine the horizontal position that the crabs can align to using the least fuel possible. How much fuel must they spend to align to that position?"
   ]
  },
  {
   "cell_type": "code",
   "execution_count": 8,
   "id": "e47caa72-8ef6-476e-8149-f7d69d5bbf45",
   "metadata": {},
   "outputs": [
    {
     "data": {
      "text/plain": [
       "352331"
      ]
     },
     "execution_count": 8,
     "metadata": {},
     "output_type": "execute_result"
    }
   ],
   "source": [
    "get_minimum_fuel(lines)"
   ]
  },
  {
   "cell_type": "markdown",
   "id": "38ad241c-243d-4900-bc92-bd29fbe4f33e",
   "metadata": {
    "tags": []
   },
   "source": [
    "## Part 2\n",
    "\n",
    "The crabs don't seem interested in your proposed solution. Perhaps you misunderstand crab engineering?\n",
    "\n",
    "As it turns out, crab submarine engines don't burn fuel at a constant rate. Instead, each change of 1 step in horizontal position costs 1 more unit of fuel than the last: the first step costs 1, the second step costs 2, the third step costs 3, and so on.\n",
    "\n",
    "As each crab moves, moving further becomes more expensive. This changes the best horizontal position to align them all on; in the example above, this becomes 5:\n",
    "```\n",
    "Move from 16 to 5: 66 fuel\n",
    "Move from 1 to 5: 10 fuel\n",
    "Move from 2 to 5: 6 fuel\n",
    "Move from 0 to 5: 15 fuel\n",
    "Move from 4 to 5: 1 fuel\n",
    "Move from 2 to 5: 6 fuel\n",
    "Move from 7 to 5: 3 fuel\n",
    "Move from 1 to 5: 10 fuel\n",
    "Move from 2 to 5: 6 fuel\n",
    "Move from 14 to 5: 45 fuel\n",
    "```\n",
    "\n",
    "This costs a total of 168 fuel. This is the new cheapest possible outcome; the old alignment position (2) now costs 206 fuel instead.\n",
    "\n",
    "Determine the horizontal position that the crabs can align to using the least fuel possible so they can make you an escape route! How much fuel must they spend to align to that position?"
   ]
  },
  {
   "cell_type": "code",
   "execution_count": 6,
   "id": "07353708-08e0-4115-ad6b-d7a96bc439b7",
   "metadata": {},
   "outputs": [
    {
     "data": {
      "text/plain": [
       "99266250"
      ]
     },
     "execution_count": 6,
     "metadata": {},
     "output_type": "execute_result"
    }
   ],
   "source": [
    "def get_minimum_fuel_graduated(inputs):\n",
    "    \"\"\"minimize the graduated cost of moves to align the subs.\"\"\"\n",
    "    total_fuel = []\n",
    "    for position in range(max(inputs)):\n",
    "\n",
    "        fuel = []\n",
    "        for sample in inputs:\n",
    "            moves = abs(position - sample)\n",
    "            cost = sum([1 + i for i in range(moves)])\n",
    "            fuel.append(cost)\n",
    "\n",
    "        total_fuel.append(sum(fuel))\n",
    "\n",
    "    return min(total_fuel)\n",
    "\n",
    "\n",
    "get_minimum_fuel_graduated(lines)"
   ]
  }
 ],
 "metadata": {
  "kernelspec": {
   "display_name": "kaggle",
   "language": "python",
   "name": "kaggle"
  },
  "language_info": {
   "codemirror_mode": {
    "name": "ipython",
    "version": 3
   },
   "file_extension": ".py",
   "mimetype": "text/x-python",
   "name": "python",
   "nbconvert_exporter": "python",
   "pygments_lexer": "ipython3",
   "version": "3.8.7"
  }
 },
 "nbformat": 4,
 "nbformat_minor": 5
}
