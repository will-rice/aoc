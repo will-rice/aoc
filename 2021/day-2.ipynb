{
 "cells": [
  {
   "cell_type": "markdown",
   "id": "4f41d379-ccd5-4cc0-8ffc-c79f5539bbae",
   "metadata": {},
   "source": [
    "# Day 2"
   ]
  },
  {
   "cell_type": "code",
   "execution_count": 1,
   "id": "39f83808-0ac1-4bd3-b110-1bf408824247",
   "metadata": {},
   "outputs": [
    {
     "data": {
      "text/plain": [
       "['forward', '8']"
      ]
     },
     "execution_count": 1,
     "metadata": {},
     "output_type": "execute_result"
    }
   ],
   "source": [
    "\n",
    "with open(\"data/day-2.txt\") as file:\n",
    "    lines = [line.strip().split() for line in file.readlines()]\n",
    "\n",
    "# direction, units\n",
    "lines[0]"
   ]
  },
  {
   "cell_type": "markdown",
   "id": "ee1cff7a-e585-4c9a-87f3-efb7a5c7b0c0",
   "metadata": {},
   "source": [
    "## Part 1"
   ]
  },
  {
   "cell_type": "code",
   "execution_count": 2,
   "id": "961ec769-a691-4c08-838b-6bbf3ccab258",
   "metadata": {},
   "outputs": [
    {
     "data": {
      "text/plain": [
       "1813801"
      ]
     },
     "execution_count": 2,
     "metadata": {},
     "output_type": "execute_result"
    }
   ],
   "source": [
    "horizontal_position = 0\n",
    "depth = 0\n",
    "\n",
    "for line in lines:\n",
    "    \n",
    "    direction, units = line\n",
    "    \n",
    "    if direction == \"forward\":\n",
    "        horizontal_position += int(units)\n",
    "    elif direction == \"down\":\n",
    "        depth += int(units)\n",
    "    elif direction == \"up\":\n",
    "        depth -= int(units)\n",
    "    \n",
    "        \n",
    "horizontal_position * depth"
   ]
  },
  {
   "cell_type": "markdown",
   "id": "29de1f10-34ad-4395-8fbd-009f876310d9",
   "metadata": {},
   "source": [
    "## Part 2"
   ]
  },
  {
   "cell_type": "code",
   "execution_count": 5,
   "id": "77a61a8d-d7f9-4414-9964-583483858dd0",
   "metadata": {},
   "outputs": [
    {
     "data": {
      "text/plain": [
       "1960569556"
      ]
     },
     "execution_count": 5,
     "metadata": {},
     "output_type": "execute_result"
    }
   ],
   "source": [
    "horizontal_position = 0\n",
    "depth = 0\n",
    "aim = 0\n",
    "\n",
    "for line in lines:\n",
    "    \n",
    "    direction, units = line\n",
    "    \n",
    "    if direction == \"forward\":\n",
    "        horizontal_position += int(units)  \n",
    "        depth += aim * int(units)\n",
    "    elif direction == \"down\":\n",
    "        aim += int(units)\n",
    "    elif direction == \"up\":\n",
    "        aim -= int(units)\n",
    "        \n",
    "\n",
    "horizontal_position * depth"
   ]
  }
 ],
 "metadata": {
  "kernelspec": {
   "display_name": "Python 3 (ipykernel)",
   "language": "python",
   "name": "python3"
  },
  "language_info": {
   "codemirror_mode": {
    "name": "ipython",
    "version": 3
   },
   "file_extension": ".py",
   "mimetype": "text/x-python",
   "name": "python",
   "nbconvert_exporter": "python",
   "pygments_lexer": "ipython3",
   "version": "3.9.6"
  }
 },
 "nbformat": 4,
 "nbformat_minor": 5
}
