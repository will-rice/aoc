{
 "cells": [
  {
   "cell_type": "markdown",
   "id": "c19198d0",
   "metadata": {},
   "source": [
    "# Day 1"
   ]
  },
  {
   "cell_type": "code",
   "execution_count": 1,
   "id": "4e94ae2d",
   "metadata": {
    "ExecuteTime": {
     "end_time": "2021-12-01T14:18:05.001612Z",
     "start_time": "2021-12-01T14:18:04.995009Z"
    }
   },
   "outputs": [
    {
     "data": {
      "text/plain": [
       "137"
      ]
     },
     "execution_count": 1,
     "metadata": {},
     "output_type": "execute_result"
    }
   ],
   "source": [
    "with open(\"data/day-1.txt\") as file:\n",
    "    lines = [int(line.strip()) for line in file.readlines()]\n",
    "\n",
    "lines[0]"
   ]
  },
  {
   "cell_type": "markdown",
   "id": "36b685d7",
   "metadata": {},
   "source": [
    "## Problem description\n",
    "\n",
    "This problem is looking at how fast the depth increases as the sonar is scanning outward from the submarine. To solve this we need to count the number of times a depth measurement increases skipping the first measurement of course."
   ]
  },
  {
   "cell_type": "markdown",
   "id": "bb3b8738",
   "metadata": {},
   "source": [
    "### Problem 1"
   ]
  },
  {
   "cell_type": "code",
   "execution_count": 2,
   "id": "949a7049",
   "metadata": {
    "ExecuteTime": {
     "end_time": "2021-12-01T14:43:37.817713Z",
     "start_time": "2021-12-01T14:43:37.811894Z"
    }
   },
   "outputs": [
    {
     "data": {
      "text/plain": [
       "1711"
      ]
     },
     "execution_count": 2,
     "metadata": {},
     "output_type": "execute_result"
    }
   ],
   "source": [
    "increased = 0\n",
    "previous = None\n",
    "\n",
    "for line in lines:\n",
    "    \n",
    "    if previous:\n",
    "        if line > previous:\n",
    "            increased+=1\n",
    "\n",
    "    previous = line\n",
    "        \n",
    "increased"
   ]
  },
  {
   "cell_type": "markdown",
   "id": "30481d40",
   "metadata": {},
   "source": [
    "### Problem 2"
   ]
  },
  {
   "cell_type": "code",
   "execution_count": 5,
   "id": "6043f642",
   "metadata": {
    "ExecuteTime": {
     "end_time": "2021-12-01T14:54:12.386879Z",
     "start_time": "2021-12-01T14:54:12.382713Z"
    }
   },
   "outputs": [
    {
     "data": {
      "text/plain": [
       "1743"
      ]
     },
     "execution_count": 5,
     "metadata": {},
     "output_type": "execute_result"
    }
   ],
   "source": [
    "def get_increases(lines, step=3):\n",
    "    increased = 0\n",
    "    previous_sum = None\n",
    "    # remember range is (start, stop, step)\n",
    "    for i in range(len(lines)):\n",
    "\n",
    "        # slice lines by the window\n",
    "        line = lines[i:i+step]\n",
    "\n",
    "        # if there are not enough measurements (3) we need to stop looking.\n",
    "        if len(line) < step:\n",
    "            break\n",
    "\n",
    "        line_sum = sum(line)\n",
    "\n",
    "        if previous_sum:\n",
    "            if line_sum > previous_sum:\n",
    "                increased+=1\n",
    "\n",
    "        previous_sum = line_sum\n",
    "\n",
    "    return increased\n",
    "\n",
    "get_increases(lines)"
   ]
  }
 ],
 "metadata": {
  "kernelspec": {
   "display_name": "kaggle",
   "language": "python",
   "name": "kaggle"
  },
  "language_info": {
   "codemirror_mode": {
    "name": "ipython",
    "version": 3
   },
   "file_extension": ".py",
   "mimetype": "text/x-python",
   "name": "python",
   "nbconvert_exporter": "python",
   "pygments_lexer": "ipython3",
   "version": "3.8.7"
  },
  "toc": {
   "base_numbering": 1,
   "nav_menu": {},
   "number_sections": false,
   "sideBar": true,
   "skip_h1_title": false,
   "title_cell": "Table of Contents",
   "title_sidebar": "Contents",
   "toc_cell": false,
   "toc_position": {},
   "toc_section_display": true,
   "toc_window_display": false
  }
 },
 "nbformat": 4,
 "nbformat_minor": 5
}
