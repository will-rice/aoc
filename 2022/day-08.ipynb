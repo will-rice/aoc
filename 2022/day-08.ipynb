{
 "cells": [
  {
   "cell_type": "markdown",
   "id": "442c09f3",
   "metadata": {},
   "source": [
    "# Advent of Code 2022"
   ]
  },
  {
   "cell_type": "markdown",
   "id": "955a455b",
   "metadata": {},
   "source": [
    "## Day 8"
   ]
  },
  {
   "cell_type": "markdown",
   "id": "ce9220e2",
   "metadata": {},
   "source": [
    "### Part 1"
   ]
  },
  {
   "cell_type": "markdown",
   "id": "53e4751c",
   "metadata": {},
   "source": [
    "--- Day 8: Treetop Tree House ---\n",
    "\n",
    "The expedition comes across a peculiar patch of tall trees all planted carefully in a grid. The Elves explain that a previous expedition planted these trees as a reforestation effort. Now, they're curious if this would be a good location for a tree house.\n",
    "\n",
    "First, determine whether there is enough tree cover here to keep a tree house hidden. To do this, you need to count the number of trees that are visible from outside the grid when looking directly along a row or column.\n",
    "\n",
    "The Elves have already launched a quadcopter to generate a map with the height of each tree (your puzzle input). For example:\n",
    "```\n",
    "30373\n",
    "25512\n",
    "65332\n",
    "33549\n",
    "35390\n",
    "```\n",
    "\n",
    "Each tree is represented as a single digit whose value is its height, where 0 is the shortest and 9 is the tallest.\n",
    "\n",
    "A tree is visible if all of the other trees between it and an edge of the grid are shorter than it. Only consider trees in the same row or column; that is, only look up, down, left, or right from any given tree.\n",
    "\n",
    "All of the trees around the edge of the grid are visible - since they are already on the edge, there are no trees to block the view. In this example, that only leaves the interior nine trees to consider:\n",
    "\n",
    "The top-left 5 is visible from the left and top. (It isn't visible from the right or bottom since other trees of height 5 are in the way.)\n",
    "The top-middle 5 is visible from the top and right.\n",
    "The top-right 1 is not visible from any direction; for it to be visible, there would need to only be trees of height 0 between it and an edge.\n",
    "The left-middle 5 is visible, but only from the right.\n",
    "The center 3 is not visible from any direction; for it to be visible, there would need to be only trees of at most height 2 between it and an edge.\n",
    "The right-middle 3 is visible from the right.\n",
    "In the bottom row, the middle 5 is visible, but the 3 and 4 are not.\n",
    "With 16 trees visible on the edge and another 5 visible in the interior, a total of 21 trees are visible in this arrangement.\n",
    "\n",
    "Consider your map; **how many trees are visible from outside the grid?**"
   ]
  },
  {
   "cell_type": "code",
   "execution_count": 107,
   "id": "f40bda98",
   "metadata": {
    "ExecuteTime": {
     "end_time": "2022-12-09T12:38:59.803567Z",
     "start_time": "2022-12-09T12:38:59.785781Z"
    }
   },
   "outputs": [
    {
     "data": {
      "text/plain": [
       "21"
      ]
     },
     "execution_count": 107,
     "metadata": {},
     "output_type": "execute_result"
    }
   ],
   "source": [
    "def get_total_visible(matrix):\n",
    "    total_visible = 0\n",
    "    for row in range(len(matrix)):\n",
    "        for column in range(len(matrix)):\n",
    "            current = matrix[row][column]\n",
    "            left = [matrix[row][x] < current for x in range(column)]\n",
    "            right = [\n",
    "                matrix[row][x] < current for x in range(column + 1, len(matrix[column]))\n",
    "            ]\n",
    "            up = [matrix[x][column] < current for x in range(row)]\n",
    "            down = [\n",
    "                matrix[x][column] < current for x in range(row + 1, len(matrix[column]))\n",
    "            ]\n",
    "\n",
    "            if all(up) or all(down) or all(left) or all(right):\n",
    "                total_visible += 1\n",
    "\n",
    "    return total_visible\n",
    "\n",
    "\n",
    "matrix = [\n",
    "    [3, 0, 3, 7, 3],\n",
    "    [2, 5, 5, 1, 2],\n",
    "    [6, 5, 3, 3, 2],\n",
    "    [3, 3, 5, 4, 9],\n",
    "    [3, 5, 3, 9, 0],\n",
    "]\n",
    "\n",
    "get_total_visible(matrix)"
   ]
  },
  {
   "cell_type": "code",
   "execution_count": 108,
   "id": "20fb8bea",
   "metadata": {
    "ExecuteTime": {
     "end_time": "2022-12-09T12:39:10.499876Z",
     "start_time": "2022-12-09T12:39:10.347926Z"
    }
   },
   "outputs": [
    {
     "data": {
      "text/plain": [
       "1736"
      ]
     },
     "execution_count": 108,
     "metadata": {},
     "output_type": "execute_result"
    }
   ],
   "source": [
    "with open(\"data/8.txt\") as file:\n",
    "    matrix = [list(line.strip()) for line in file.readlines()]\n",
    "\n",
    "get_total_visible(matrix)"
   ]
  },
  {
   "cell_type": "markdown",
   "id": "093fcccc",
   "metadata": {},
   "source": [
    "### Part 2"
   ]
  },
  {
   "cell_type": "markdown",
   "id": "5a9acaa1",
   "metadata": {
    "ExecuteTime": {
     "end_time": "2022-12-06T13:51:08.560358Z",
     "start_time": "2022-12-06T13:51:08.546730Z"
    }
   },
   "source": [
    "--- Part Two ---\n",
    "\n",
    "Content with the amount of tree cover available, the Elves just need to know the best spot to build their tree house: they would like to be able to see a lot of trees.\n",
    "\n",
    "To measure the viewing distance from a given tree, look up, down, left, and right from that tree; stop if you reach an edge or at the first tree that is the same height or taller than the tree under consideration. (If a tree is right on the edge, at least one of its viewing distances will be zero.)\n",
    "\n",
    "The Elves don't care about distant trees taller than those found by the rules above; the proposed tree house has large eaves to keep it dry, so they wouldn't be able to see higher than the tree house anyway.\n",
    "\n",
    "In the example above, consider the middle 5 in the second row:\n",
    "\n",
    "```\n",
    "30373\n",
    "25512\n",
    "65332\n",
    "33549\n",
    "35390\n",
    "```\n",
    "\n",
    "Looking up, its view is not blocked; it can see 1 tree (of height 3).\n",
    "Looking left, its view is blocked immediately; it can see only 1 tree (of height 5, right next to it).\n",
    "Looking right, its view is not blocked; it can see 2 trees.\n",
    "Looking down, its view is blocked eventually; it can see 2 trees (one of height 3, then the tree of height 5 that blocks its view).\n",
    "A tree's scenic score is found by multiplying together its viewing distance in each of the four directions. For this tree, this is 4 (found by multiplying 1 * 1 * 2 * 2).\n",
    "\n",
    "However, you can do even better: consider the tree of height 5 in the middle of the fourth row:\n",
    "\n",
    "```\n",
    "30373\n",
    "25512\n",
    "65332\n",
    "33549\n",
    "35390\n",
    "```\n",
    "\n",
    "Looking up, its view is blocked at 2 trees (by another tree with a height of 5).\n",
    "Looking left, its view is not blocked; it can see 2 trees.\n",
    "Looking down, its view is also not blocked; it can see 1 tree.\n",
    "Looking right, its view is blocked at 2 trees (by a massive tree of height 9).\n",
    "This tree's scenic score is 8 (2 * 2 * 1 * 2); this is the ideal spot for the tree house.\n",
    "\n",
    "Consider each tree on your map. **What is the highest scenic score possible for any tree?**"
   ]
  },
  {
   "cell_type": "code",
   "execution_count": 103,
   "id": "57c9f1a2",
   "metadata": {
    "ExecuteTime": {
     "end_time": "2022-12-09T00:38:20.194315Z",
     "start_time": "2022-12-09T00:38:20.175504Z"
    }
   },
   "outputs": [
    {
     "data": {
      "text/plain": [
       "8"
      ]
     },
     "execution_count": 103,
     "metadata": {},
     "output_type": "execute_result"
    }
   ],
   "source": [
    "def get_scenic_score(matrix):\n",
    "    max_score = 0\n",
    "    for row in range(len(matrix)):\n",
    "        for column in range(len(matrix)):\n",
    "            left = 0\n",
    "            right = 0\n",
    "            up = 0\n",
    "            down = 0\n",
    "\n",
    "            current = matrix[row][column]\n",
    "            for x in range(column - 1, -1, -1):\n",
    "                left += 1\n",
    "                if matrix[row][x] >= current:\n",
    "                    break\n",
    "            for x in range(column + 1, len(matrix[row])):\n",
    "                right += 1\n",
    "                if matrix[row][x] >= current:\n",
    "                    break\n",
    "            for x in range(row - 1, -1, -1):\n",
    "                up += 1\n",
    "                if matrix[x][column] >= current:\n",
    "                    break\n",
    "            for x in range(row + 1, len(matrix)):\n",
    "                down += 1\n",
    "                if matrix[x][column] >= current:\n",
    "                    break\n",
    "\n",
    "            max_score = max(max_score, up * down * left * right)\n",
    "\n",
    "    return max_score\n",
    "\n",
    "\n",
    "matrix = [\n",
    "    [3, 0, 3, 7, 3],\n",
    "    [2, 5, 5, 1, 2],\n",
    "    [6, 5, 3, 3, 2],\n",
    "    [3, 3, 5, 4, 9],\n",
    "    [3, 5, 3, 9, 0],\n",
    "]\n",
    "\n",
    "get_scenic_score(matrix)"
   ]
  },
  {
   "cell_type": "code",
   "execution_count": 105,
   "id": "e805f5b1",
   "metadata": {
    "ExecuteTime": {
     "end_time": "2022-12-09T12:37:15.032584Z",
     "start_time": "2022-12-09T12:37:14.998283Z"
    }
   },
   "outputs": [
    {
     "data": {
      "text/plain": [
       "268800"
      ]
     },
     "execution_count": 105,
     "metadata": {},
     "output_type": "execute_result"
    }
   ],
   "source": [
    "with open(\"data/8.txt\") as file:\n",
    "    matrix = [list(line.strip()) for line in file.readlines()]\n",
    "\n",
    "get_scenic_score(matrix)"
   ]
  }
 ],
 "metadata": {
  "kernelspec": {
   "display_name": "notebook",
   "language": "python",
   "name": "notebook"
  },
  "language_info": {
   "codemirror_mode": {
    "name": "ipython",
    "version": 3
   },
   "file_extension": ".py",
   "mimetype": "text/x-python",
   "name": "python",
   "nbconvert_exporter": "python",
   "pygments_lexer": "ipython3",
   "version": "3.9.15"
  },
  "toc": {
   "base_numbering": 1,
   "nav_menu": {},
   "number_sections": true,
   "sideBar": true,
   "skip_h1_title": false,
   "title_cell": "Table of Contents",
   "title_sidebar": "Contents",
   "toc_cell": false,
   "toc_position": {},
   "toc_section_display": true,
   "toc_window_display": false
  },
  "varInspector": {
   "cols": {
    "lenName": 16,
    "lenType": 16,
    "lenVar": 40
   },
   "kernels_config": {
    "python": {
     "delete_cmd_postfix": "",
     "delete_cmd_prefix": "del ",
     "library": "var_list.py",
     "varRefreshCmd": "print(var_dic_list())"
    },
    "r": {
     "delete_cmd_postfix": ") ",
     "delete_cmd_prefix": "rm(",
     "library": "var_list.r",
     "varRefreshCmd": "cat(var_dic_list()) "
    }
   },
   "types_to_exclude": [
    "module",
    "function",
    "builtin_function_or_method",
    "instance",
    "_Feature"
   ],
   "window_display": false
  }
 },
 "nbformat": 4,
 "nbformat_minor": 5
}
