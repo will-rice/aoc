{
 "cells": [
  {
   "cell_type": "markdown",
   "id": "442c09f3",
   "metadata": {},
   "source": [
    "# Advent of Code 2022"
   ]
  },
  {
   "cell_type": "markdown",
   "id": "955a455b",
   "metadata": {},
   "source": [
    "## Day 2"
   ]
  },
  {
   "cell_type": "markdown",
   "id": "ce9220e2",
   "metadata": {},
   "source": [
    "### Part 1"
   ]
  },
  {
   "cell_type": "code",
   "execution_count": 13,
   "id": "20fb8bea",
   "metadata": {
    "ExecuteTime": {
     "end_time": "2022-12-02T12:53:14.459100Z",
     "start_time": "2022-12-02T12:53:14.440266Z"
    }
   },
   "outputs": [
    {
     "data": {
      "text/plain": [
       "11150"
      ]
     },
     "execution_count": 13,
     "metadata": {},
     "output_type": "execute_result"
    }
   ],
   "source": [
    "from typing import List\n",
    "\n",
    "# Opponent\n",
    "# A = Rock\n",
    "# B = Paper\n",
    "# C = Scissors\n",
    "\n",
    "# You\n",
    "# X = Rock\n",
    "# Y = Paper\n",
    "# Z = Scissors\n",
    "\n",
    "\n",
    "with open(\"./data/2.txt\") as file:\n",
    "    matches = [l.strip().split() for l in file.readlines()]\n",
    "\n",
    "move2points = {\"X\": 1, \"Y\": 2, \"Z\": 3}\n",
    "\n",
    "\n",
    "def get_result(match: List[str]) -> int:\n",
    "    opponent, me = match\n",
    "\n",
    "    score = move2points[me]\n",
    "\n",
    "    if opponent == \"A\":\n",
    "        if me == \"X\":  # draw\n",
    "            score += 3\n",
    "        if me == \"Y\":\n",
    "            score += 6\n",
    "\n",
    "    if opponent == \"B\":\n",
    "        if me == \"Y\":  # draw\n",
    "            score += 3\n",
    "        if me == \"Z\":\n",
    "            score += 6\n",
    "\n",
    "    if opponent == \"C\":\n",
    "        if me == \"Z\":  # draw\n",
    "            score += 3\n",
    "        if me == \"X\":\n",
    "            score += 6\n",
    "\n",
    "    return score\n",
    "\n",
    "total = 0\n",
    "for match in matches:\n",
    "    total += get_result(match)\n",
    "    \n",
    "total"
   ]
  },
  {
   "cell_type": "markdown",
   "id": "093fcccc",
   "metadata": {},
   "source": [
    "### Part 2"
   ]
  },
  {
   "cell_type": "code",
   "execution_count": 15,
   "id": "c4b7c462",
   "metadata": {
    "ExecuteTime": {
     "end_time": "2022-12-02T13:08:34.739002Z",
     "start_time": "2022-12-02T13:08:34.721674Z"
    }
   },
   "outputs": [
    {
     "data": {
      "text/plain": [
       "8295"
      ]
     },
     "execution_count": 15,
     "metadata": {},
     "output_type": "execute_result"
    }
   ],
   "source": [
    "from typing import List\n",
    "\n",
    "# Opponent\n",
    "# A = Rock\n",
    "# B = Paper\n",
    "# C = Scissors\n",
    "\n",
    "# You\n",
    "# X = Lose\n",
    "# Y = Draw\n",
    "# Z = Win\n",
    "\n",
    "# What we need to know:\n",
    "# - the move we should use\n",
    "# - the score of the move we used\n",
    "# - the score for lose, draw, win\n",
    "\n",
    "\n",
    "with open(\"./data/2.txt\") as file:\n",
    "    matches = [l.strip().split() for l in file.readlines()]\n",
    "\n",
    "move2points = {\"A\": 1, \"B\": 2, \"C\": 3}\n",
    "result2points = {\"X\": 0, \"Y\": 3, \"Z\": 6}\n",
    "win = {\"A\":\"B\", \"B\":\"C\", \"C\":\"A\"}\n",
    "lose = {v: k for k, v in win.items()}\n",
    "\n",
    "def get_result(match: List[str]) -> int:\n",
    "    opponent, outcome = match\n",
    "    \n",
    "    score = result2points[outcome]\n",
    "    if outcome == \"X\": # need to lose\n",
    "        score += move2points[lose[opponent]]\n",
    "    if outcome == \"Y\": # draw\n",
    "        score += move2points[opponent]\n",
    "    if outcome == \"Z\": # need to win\n",
    "        score += move2points[win[opponent]]\n",
    "\n",
    "    return score\n",
    "\n",
    "total = 0\n",
    "for match in matches:\n",
    "    total += get_result(match)\n",
    "    \n",
    "total"
   ]
  }
 ],
 "metadata": {
  "kernelspec": {
   "display_name": "notebook",
   "language": "python",
   "name": "notebook"
  },
  "language_info": {
   "codemirror_mode": {
    "name": "ipython",
    "version": 3
   },
   "file_extension": ".py",
   "mimetype": "text/x-python",
   "name": "python",
   "nbconvert_exporter": "python",
   "pygments_lexer": "ipython3",
   "version": "3.9.13"
  },
  "toc": {
   "base_numbering": 1,
   "nav_menu": {},
   "number_sections": true,
   "sideBar": true,
   "skip_h1_title": false,
   "title_cell": "Table of Contents",
   "title_sidebar": "Contents",
   "toc_cell": false,
   "toc_position": {},
   "toc_section_display": true,
   "toc_window_display": false
  }
 },
 "nbformat": 4,
 "nbformat_minor": 5
}
