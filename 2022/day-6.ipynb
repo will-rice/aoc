{
 "cells": [
  {
   "cell_type": "markdown",
   "id": "442c09f3",
   "metadata": {},
   "source": [
    "# Advent of Code 2022"
   ]
  },
  {
   "cell_type": "markdown",
   "id": "955a455b",
   "metadata": {},
   "source": [
    "## Day 6"
   ]
  },
  {
   "cell_type": "markdown",
   "id": "ce9220e2",
   "metadata": {},
   "source": [
    "### Part 1"
   ]
  },
  {
   "cell_type": "markdown",
   "id": "53e4751c",
   "metadata": {},
   "source": [
    "--- Day 6: Tuning Trouble ---\n",
    "\n",
    "The preparations are finally complete; you and the Elves leave camp on foot and begin to make your way toward the star fruit grove.\n",
    "\n",
    "As you move through the dense undergrowth, one of the Elves gives you a handheld device. He says that it has many fancy features, but the most important one to set up right now is the communication system.\n",
    "\n",
    "However, because he's heard you have significant experience dealing with signal-based systems, he convinced the other Elves that it would be okay to give you their one malfunctioning device - surely you'll have no problem fixing it.\n",
    "\n",
    "As if inspired by comedic timing, the device emits a few colorful sparks.\n",
    "\n",
    "To be able to communicate with the Elves, the device needs to lock on to their signal. The signal is a series of seemingly-random characters that the device receives one at a time.\n",
    "\n",
    "To fix the communication system, you need to add a subroutine to the device that detects a start-of-packet marker in the datastream. In the protocol being used by the Elves, the start of a packet is indicated by a sequence of four characters that are all different.\n",
    "\n",
    "The device will send your subroutine a datastream buffer (your puzzle input); your subroutine needs to identify the first position where the four most recently received characters were all different. Specifically, it needs to report the number of characters from the beginning of the buffer to the end of the first such four-character marker.\n",
    "\n",
    "For example, suppose you receive the following datastream buffer:\n",
    "\n",
    "`mjqjpqmgbljsphdztnvjfqwrcgsmlb`\n",
    "\n",
    "After the first three characters (mjq) have been received, there haven't been enough characters received yet to find the marker. The first time a marker could occur is after the fourth character is received, making the most recent four characters mjqj. Because j is repeated, this isn't a marker.\n",
    "\n",
    "The first time a marker appears is after the seventh character arrives. Once it does, the last four characters received are jpqm, which are all different. In this case, your subroutine should report the value 7, because the first start-of-packet marker is complete after 7 characters have been processed.\n",
    "\n",
    "Here are a few more examples:\n",
    "\n",
    "`bvwbjplbgvbhsrlpgdmjqwftvncz`: first marker after character 5\n",
    "\n",
    "`nppdvjthqldpwncqszvftbrmjlhg`: first marker after character 6\n",
    "\n",
    "`nznrnfrfntjfmvfwmzdfjlvtqnbhcprsg`: first marker after character 10\n",
    "\n",
    "`zcfzfwzzqfrljwzlrfnpqdbhtmscgvjw`: first marker after character 11\n",
    "\n",
    "How many characters need to be processed before the first start-of-packet marker is detected?"
   ]
  },
  {
   "cell_type": "code",
   "execution_count": null,
   "id": "4c8edc8b",
   "metadata": {},
   "outputs": [],
   "source": [
    "def get_marker(inputs, window):\n",
    "    for i in range(len(inputs)):\n",
    "        frame = inputs[i : i + window]\n",
    "        if len(set(frame)) == len(frame):\n",
    "            return i + window"
   ]
  },
  {
   "cell_type": "code",
   "execution_count": 68,
   "id": "20fb8bea",
   "metadata": {
    "ExecuteTime": {
     "end_time": "2022-12-06T13:53:09.467522Z",
     "start_time": "2022-12-06T13:53:09.442678Z"
    }
   },
   "outputs": [
    {
     "name": "stdout",
     "output_type": "stream",
     "text": [
      "[7, 5, 6, 10, 11]\n"
     ]
    }
   ],
   "source": [
    "with open(\"data/6.txt\") as file:\n",
    "    buffer = file.read().strip(\"\\n\")\n",
    "\n",
    "tests = [\n",
    "    \"mjqjpqmgbljsphdztnvjfqwrcgsmlb\",\n",
    "    \"bvwbjplbgvbhsrlpgdmjqwftvncz\",\n",
    "    \"nppdvjthqldpwncqszvftbrmjlhg\",\n",
    "    \"nznrnfrfntjfmvfwmzdfjlvtqnbhcprsg\",\n",
    "    \"zcfzfwzzqfrljwzlrfnpqdbhtmscgvjw\",\n",
    "]\n",
    "\n",
    "given = [7, 5, 6, 10, 11]\n",
    "answers = [get_marker(test, 4) for test in tests]\n",
    "assert answers == given\n",
    "\n",
    "get_marker(buffer, 4)"
   ]
  },
  {
   "cell_type": "markdown",
   "id": "093fcccc",
   "metadata": {},
   "source": [
    "### Part 2"
   ]
  },
  {
   "cell_type": "markdown",
   "id": "5a9acaa1",
   "metadata": {
    "ExecuteTime": {
     "end_time": "2022-12-06T13:51:08.560358Z",
     "start_time": "2022-12-06T13:51:08.546730Z"
    }
   },
   "source": [
    "--- Part Two ---\n",
    "\n",
    "Your device's communication system is correctly detecting packets, but still isn't working. It looks like it also needs to look for messages.\n",
    "\n",
    "A start-of-message marker is just like a start-of-packet marker, except it consists of 14 distinct characters rather than 4.\n",
    "\n",
    "Here are the first positions of start-of-message markers for all of the above examples:\n",
    "\n",
    "`mjqjpqmgbljsphdztnvjfqwrcgsmlb`: first marker after character 19\n",
    "\n",
    "`bvwbjplbgvbhsrlpgdmjqwftvncz`: first marker after character 23\n",
    "\n",
    "`nppdvjthqldpwncqszvftbrmjlhg`: first marker after character 23\n",
    "\n",
    "`nznrnfrfntjfmvfwmzdfjlvtqnbhcprsg`: first marker after character 29\n",
    "\n",
    "`zcfzfwzzqfrljwzlrfnpqdbhtmscgvjw`: first marker after character 26\n",
    "\n",
    "How many characters need to be processed before the first start-of-message marker is detected?"
   ]
  },
  {
   "cell_type": "code",
   "execution_count": 72,
   "id": "e805f5b1",
   "metadata": {
    "ExecuteTime": {
     "end_time": "2022-12-06T13:54:35.373038Z",
     "start_time": "2022-12-06T13:54:35.348463Z"
    }
   },
   "outputs": [
    {
     "data": {
      "text/plain": [
       "3120"
      ]
     },
     "execution_count": 72,
     "metadata": {},
     "output_type": "execute_result"
    }
   ],
   "source": [
    "with open(\"data/6.txt\") as file:\n",
    "    buffer = file.read().strip(\"\\n\")\n",
    "\n",
    "tests = [\n",
    "    \"mjqjpqmgbljsphdztnvjfqwrcgsmlb\",\n",
    "    \"bvwbjplbgvbhsrlpgdmjqwftvncz\",\n",
    "    \"nppdvjthqldpwncqszvftbrmjlhg\",\n",
    "    \"nznrnfrfntjfmvfwmzdfjlvtqnbhcprsg\",\n",
    "    \"zcfzfwzzqfrljwzlrfnpqdbhtmscgvjw\",\n",
    "]\n",
    "\n",
    "given = [19, 23, 23, 29, 26]\n",
    "answers = [get_marker(t, 14) for t in tests]\n",
    "assert answers == given\n",
    "\n",
    "get_marker(buffer, 14)"
   ]
  }
 ],
 "metadata": {
  "kernelspec": {
   "display_name": "notebook",
   "language": "python",
   "name": "notebook"
  },
  "language_info": {
   "codemirror_mode": {
    "name": "ipython",
    "version": 3
   },
   "file_extension": ".py",
   "mimetype": "text/x-python",
   "name": "python",
   "nbconvert_exporter": "python",
   "pygments_lexer": "ipython3",
   "version": "3.9.13"
  },
  "toc": {
   "base_numbering": 1,
   "nav_menu": {},
   "number_sections": true,
   "sideBar": true,
   "skip_h1_title": false,
   "title_cell": "Table of Contents",
   "title_sidebar": "Contents",
   "toc_cell": false,
   "toc_position": {},
   "toc_section_display": true,
   "toc_window_display": false
  },
  "varInspector": {
   "cols": {
    "lenName": 16,
    "lenType": 16,
    "lenVar": 40
   },
   "kernels_config": {
    "python": {
     "delete_cmd_postfix": "",
     "delete_cmd_prefix": "del ",
     "library": "var_list.py",
     "varRefreshCmd": "print(var_dic_list())"
    },
    "r": {
     "delete_cmd_postfix": ") ",
     "delete_cmd_prefix": "rm(",
     "library": "var_list.r",
     "varRefreshCmd": "cat(var_dic_list()) "
    }
   },
   "types_to_exclude": [
    "module",
    "function",
    "builtin_function_or_method",
    "instance",
    "_Feature"
   ],
   "window_display": false
  }
 },
 "nbformat": 4,
 "nbformat_minor": 5
}
