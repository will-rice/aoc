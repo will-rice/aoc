{
 "cells": [
  {
   "cell_type": "markdown",
   "id": "442c09f3",
   "metadata": {},
   "source": [
    "# Advent of Code 2022"
   ]
  },
  {
   "cell_type": "markdown",
   "id": "955a455b",
   "metadata": {},
   "source": [
    "## Day 8"
   ]
  },
  {
   "cell_type": "markdown",
   "id": "ce9220e2",
   "metadata": {},
   "source": [
    "### Part 1"
   ]
  },
  {
   "cell_type": "code",
   "execution_count": 29,
   "id": "f40bda98",
   "metadata": {
    "ExecuteTime": {
     "end_time": "2022-12-10T02:31:16.621265Z",
     "start_time": "2022-12-10T02:31:16.601835Z"
    }
   },
   "outputs": [
    {
     "name": "stdout",
     "output_type": "stream",
     "text": [
      "[0 0]\n",
      "5\n",
      "[0 0]\n",
      "[4 0]\n",
      "9\n",
      "[0 0]\n",
      "9\n",
      "[ 0 -3]\n",
      "9\n",
      "[-1 -3]\n",
      "9\n",
      "[-1  1]\n",
      "9\n",
      "[-2  1]\n",
      "9\n",
      "[-2 -4]\n",
      "9\n"
     ]
    },
    {
     "data": {
      "text/plain": [
       "9"
      ]
     },
     "execution_count": 29,
     "metadata": {},
     "output_type": "execute_result"
    }
   ],
   "source": [
    "import numpy as np\n",
    "\n",
    "data = \"\"\"R 4\n",
    "U 4\n",
    "L 3\n",
    "D 1\n",
    "R 4\n",
    "D 1\n",
    "L 5\n",
    "R 2\"\"\"\n",
    "\n",
    "\n",
    "lines = [l.split() for l in data.split(\"\\n\")]\n",
    "\n",
    "\n",
    "def num_visited(lines):\n",
    "    head = np.array([0, 0])\n",
    "    tail = head.copy()\n",
    "    visited = 1\n",
    "\n",
    "    for line in lines:\n",
    "        d, m = line\n",
    "        \n",
    "        if d == \"U\":\n",
    "            head[0] += int(m)\n",
    "            norm = head - tail\n",
    "            if max(norm) > 1:\n",
    "                tail[0] += norm[0]\n",
    "                visited += abs(norm[0])\n",
    "\n",
    "        if d == \"D\":\n",
    "            head[0] -= int(m)\n",
    "            norm = head - tail\n",
    "            if max(norm) > 1:\n",
    "                tail[0] -= norm[0]\n",
    "                visited += abs(norm[0])\n",
    "\n",
    "        if d == \"R\":\n",
    "            head[1] += int(m)\n",
    "            norm = head - tail\n",
    "            if max(norm) > 1:\n",
    "                tail[1] += norm[1]\n",
    "                visited += abs(norm[1])\n",
    "\n",
    "        if d == \"L\":\n",
    "            head[1] -= int(m)\n",
    "            norm = head - tail\n",
    "            if max(norm) > 1:\n",
    "                tail[1] -= norm[1]\n",
    "                visited += abs(norm[1])\n",
    "\n",
    "    return visited\n",
    "\n",
    "\n",
    "num_visited(lines)"
   ]
  },
  {
   "cell_type": "code",
   "execution_count": 18,
   "id": "8320b4cc",
   "metadata": {
    "ExecuteTime": {
     "end_time": "2022-12-09T21:25:14.286721Z",
     "start_time": "2022-12-09T21:25:14.272691Z"
    }
   },
   "outputs": [
    {
     "name": "stdout",
     "output_type": "stream",
     "text": [
      "7\n",
      "[0 7]\n"
     ]
    },
    {
     "data": {
      "text/plain": [
       "array([0, 6])"
      ]
     },
     "execution_count": 18,
     "metadata": {},
     "output_type": "execute_result"
    }
   ],
   "source": [
    "head = np.array([0, 7])\n",
    "tail = np.array([0, 0])\n",
    "\n",
    "print(max(head - tail))\n",
    "\n",
    "norm = head - tail\n",
    "print(norm)\n",
    "if max(norm) > 1:\n",
    "    tail[1] += norm[1] - 1\n",
    "\n",
    "tail"
   ]
  },
  {
   "cell_type": "code",
   "execution_count": 21,
   "id": "20fb8bea",
   "metadata": {
    "ExecuteTime": {
     "end_time": "2022-12-09T21:31:55.482280Z",
     "start_time": "2022-12-09T21:31:55.457622Z"
    }
   },
   "outputs": [
    {
     "data": {
      "text/plain": [
       "221"
      ]
     },
     "execution_count": 21,
     "metadata": {},
     "output_type": "execute_result"
    }
   ],
   "source": [
    "with open(\"data/9.txt\") as file:\n",
    "    lines = [line.split() for line in file.readlines()]\n",
    "    \n",
    "num_visited(lines)"
   ]
  },
  {
   "cell_type": "code",
   "execution_count": null,
   "id": "462c0b6c",
   "metadata": {},
   "outputs": [],
   "source": []
  },
  {
   "cell_type": "markdown",
   "id": "093fcccc",
   "metadata": {},
   "source": [
    "### Part 2"
   ]
  },
  {
   "cell_type": "markdown",
   "id": "5a9acaa1",
   "metadata": {
    "ExecuteTime": {
     "end_time": "2022-12-06T13:51:08.560358Z",
     "start_time": "2022-12-06T13:51:08.546730Z"
    }
   },
   "source": [
    "\n"
   ]
  }
 ],
 "metadata": {
  "kernelspec": {
   "display_name": "notebook",
   "language": "python",
   "name": "notebook"
  },
  "language_info": {
   "codemirror_mode": {
    "name": "ipython",
    "version": 3
   },
   "file_extension": ".py",
   "mimetype": "text/x-python",
   "name": "python",
   "nbconvert_exporter": "python",
   "pygments_lexer": "ipython3",
   "version": "3.9.15"
  },
  "toc": {
   "base_numbering": 1,
   "nav_menu": {},
   "number_sections": true,
   "sideBar": true,
   "skip_h1_title": false,
   "title_cell": "Table of Contents",
   "title_sidebar": "Contents",
   "toc_cell": false,
   "toc_position": {},
   "toc_section_display": true,
   "toc_window_display": false
  },
  "varInspector": {
   "cols": {
    "lenName": 16,
    "lenType": 16,
    "lenVar": 40
   },
   "kernels_config": {
    "python": {
     "delete_cmd_postfix": "",
     "delete_cmd_prefix": "del ",
     "library": "var_list.py",
     "varRefreshCmd": "print(var_dic_list())"
    },
    "r": {
     "delete_cmd_postfix": ") ",
     "delete_cmd_prefix": "rm(",
     "library": "var_list.r",
     "varRefreshCmd": "cat(var_dic_list()) "
    }
   },
   "types_to_exclude": [
    "module",
    "function",
    "builtin_function_or_method",
    "instance",
    "_Feature"
   ],
   "window_display": false
  }
 },
 "nbformat": 4,
 "nbformat_minor": 5
}
