{
 "cells": [
  {
   "cell_type": "markdown",
   "id": "442c09f3",
   "metadata": {},
   "source": [
    "# Advent of Code 2022"
   ]
  },
  {
   "cell_type": "markdown",
   "id": "955a455b",
   "metadata": {},
   "source": [
    "## Day 5"
   ]
  },
  {
   "cell_type": "markdown",
   "id": "ce9220e2",
   "metadata": {},
   "source": [
    "### Part 1"
   ]
  },
  {
   "cell_type": "markdown",
   "id": "53e4751c",
   "metadata": {},
   "source": [
    "--- Day 5: Supply Stacks ---\n",
    "\n",
    "The expedition can depart as soon as the final supplies have been unloaded from the ships. Supplies are stored in stacks of marked crates, but because the needed supplies are buried under many other crates, the crates need to be rearranged.\n",
    "\n",
    "The ship has a giant cargo crane capable of moving crates between stacks. To ensure none of the crates get crushed or fall over, the crane operator will rearrange them in a series of carefully-planned steps. After the crates are rearranged, the desired crates will be at the top of each stack.\n",
    "\n",
    "The Elves don't want to interrupt the crane operator during this delicate procedure, but they forgot to ask her which crate will end up where, and they want to be ready to unload them as soon as possible so they can embark.\n",
    "\n",
    "They do, however, have a drawing of the starting stacks of crates and the rearrangement procedure (your puzzle input). For example:\n",
    "\n",
    "```\n",
    "    [D]    \n",
    "[N] [C]    \n",
    "[Z] [M] [P]\n",
    " 1   2   3 \n",
    "```\n",
    "\n",
    "move 1 from 2 to 1\n",
    "move 3 from 1 to 3\n",
    "move 2 from 2 to 1\n",
    "move 1 from 1 to 2\n",
    "In this example, there are three stacks of crates. Stack 1 contains two crates: crate Z is on the bottom, and crate N is on top. Stack 2 contains three crates; from bottom to top, they are crates M, C, and D. Finally, stack 3 contains a single crate, P.\n",
    "\n",
    "Then, the rearrangement procedure is given. In each step of the procedure, a quantity of crates is moved from one stack to a different stack. In the first step of the above rearrangement procedure, one crate is moved from stack 2 to stack 1, resulting in this configuration:\n",
    "\n",
    "```\n",
    "[D]        \n",
    "[N] [C]    \n",
    "[Z] [M] [P]\n",
    " 1   2   3 \n",
    " \n",
    "```\n",
    "\n",
    "In the second step, three crates are moved from stack 1 to stack 3. Crates are moved one at a time, so the first crate to be moved (D) ends up below the second and third crates:\n",
    "\n",
    "```\n",
    "        [Z]\n",
    "        [N]\n",
    "    [C] [D]\n",
    "    [M] [P]\n",
    " 1   2   3\n",
    " \n",
    "```\n",
    "\n",
    "Then, both crates are moved from stack 2 to stack 1. Again, because crates are moved one at a time, crate C ends up below crate M:\n",
    "\n",
    "```\n",
    "        [Z]\n",
    "        [N]\n",
    "[M]     [D]\n",
    "[C]     [P]\n",
    " 1   2   3\n",
    "```\n",
    "\n",
    "Finally, one crate is moved from stack 1 to stack 2:\n",
    "\n",
    "```\n",
    "        [Z]\n",
    "        [N]\n",
    "        [D]\n",
    "[C] [M] [P]\n",
    " 1   2   3\n",
    "```\n",
    "\n",
    "The Elves just need to know which crate will end up on top of each stack; in this example, the top crates are C in stack 1, M in stack 2, and Z in stack 3, so you should combine these together and give the Elves the message CMZ.\n",
    "\n",
    "After the rearrangement procedure completes, what crate ends up on top of each stack?"
   ]
  },
  {
   "cell_type": "code",
   "execution_count": 4,
   "id": "20fb8bea",
   "metadata": {
    "ExecuteTime": {
     "end_time": "2022-12-05T20:14:27.922637Z",
     "start_time": "2022-12-05T20:14:27.905840Z"
    }
   },
   "outputs": [
    {
     "name": "stdout",
     "output_type": "stream",
     "text": [
      "F\n",
      "W\n",
      "N\n",
      "S\n",
      "H\n",
      "L\n",
      "D\n",
      "N\n",
      "Z\n"
     ]
    }
   ],
   "source": [
    "with open(\"data/5.txt\") as file:\n",
    "    lines = [line.strip().split() for line in file.readlines()]\n",
    "\n",
    "boxes = lines[:8]\n",
    "directions = lines[10:]\n",
    "\n",
    "stacks = [\n",
    "    [\"[D]\", \"[M]\", \"[S]\", \"[Z]\", \"[R]\", \"[F]\", \"[W]\", \"[N]\"],\n",
    "    [\"[W]\", \"[P]\", \"[Q]\", \"[G]\", \"[S]\"],\n",
    "    [\"[W]\", \"[R]\", \"[V]\", \"[Q]\", \"[F]\", \"[N]\", \"[J]\", \"[C]\"],\n",
    "    [\"[F]\", \"[Z]\", \"[P]\", \"[C]\", \"[G]\", \"[D]\", \"[L]\"],\n",
    "    [\"[T]\", \"[P]\", \"[S]\"],\n",
    "    [\"[H]\", \"[D]\", \"[F]\", \"[W]\", \"[R]\", \"[L]\"],\n",
    "    [\"[Z]\", \"[N]\", \"[D]\", \"[C]\"],\n",
    "    [\"[W]\", \"[N]\", \"[R]\", \"[F]\", \"[V]\", \"[S]\", \"[J]\", \"[Q]\"],\n",
    "    [\"[R]\", \"[M]\", \"[S]\", \"[G]\", \"[Z]\", \"[W]\", \"[V]\"],\n",
    "]\n",
    "\n",
    "for d in directions:\n",
    "    number = int(d[1])\n",
    "    source = int(d[3]) - 1\n",
    "    target = int(d[-1]) - 1\n",
    "\n",
    "    for i in range(number):\n",
    "        moved = stacks[source].pop()\n",
    "        stacks[target].append(moved)\n",
    "        \n",
    "    \n",
    "for row in stacks:\n",
    "    print(row[-1].replace(\"]\", \"\").replace(\"[\", \"\"))"
   ]
  },
  {
   "cell_type": "markdown",
   "id": "093fcccc",
   "metadata": {},
   "source": [
    "### Part 2"
   ]
  },
  {
   "cell_type": "code",
   "execution_count": null,
   "id": "c4b7c462",
   "metadata": {
    "ExecuteTime": {
     "end_time": "2022-12-05T20:13:55.897880Z",
     "start_time": "2022-12-05T20:13:55.897875Z"
    }
   },
   "outputs": [],
   "source": [
    "with open(\"data/5.txt\") as file:\n",
    "    lines = [line.strip().split() for line in file.readlines()]\n",
    "\n",
    "    \n",
    "boxes = lines[:8]\n",
    "directions = lines[10:]\n",
    "\n",
    "stacks = [\n",
    "    [\"[D]\", \"[M]\", \"[S]\", \"[Z]\", \"[R]\", \"[F]\", \"[W]\", \"[N]\"],\n",
    "    [\"[W]\", \"[P]\", \"[Q]\", \"[G]\", \"[S]\"],\n",
    "    [\"[W]\", \"[R]\", \"[V]\", \"[Q]\", \"[F]\", \"[N]\", \"[J]\", \"[C]\"],\n",
    "    [\"[F]\", \"[Z]\", \"[P]\", \"[C]\", \"[G]\", \"[D]\", \"[L]\"],\n",
    "    [\"[T]\", \"[P]\", \"[S]\"],\n",
    "    [\"[H]\", \"[D]\", \"[F]\", \"[W]\", \"[R]\", \"[L]\"],\n",
    "    [\"[Z]\", \"[N]\", \"[D]\", \"[C]\"],\n",
    "    [\"[W]\", \"[N]\", \"[R]\", \"[F]\", \"[V]\", \"[S]\", \"[J]\", \"[Q]\"],\n",
    "    [\"[R]\", \"[M]\", \"[S]\", \"[G]\", \"[Z]\", \"[W]\", \"[V]\"],\n",
    "]\n",
    "\n",
    "\n",
    "for d in directions:\n",
    "    number = int(d[1])\n",
    "    source = int(d[3]) - 1\n",
    "    target = int(d[-1]) - 1\n",
    "\n",
    "    moved = []\n",
    "    for i in range(number):\n",
    "        m = stacks[source].pop()\n",
    "        moved.append(m)\n",
    "        \n",
    "    stacks[target].extend(list(reversed(moved)))"
   ]
  },
  {
   "cell_type": "code",
   "execution_count": null,
   "id": "e805f5b1",
   "metadata": {
    "ExecuteTime": {
     "end_time": "2022-12-05T20:13:55.898568Z",
     "start_time": "2022-12-05T20:13:55.898562Z"
    }
   },
   "outputs": [],
   "source": [
    "for row in stacks:\n",
    "    print(row[-1].replace(\"]\", \"\").replace(\"[\", \"\"))"
   ]
  }
 ],
 "metadata": {
  "kernelspec": {
   "display_name": "notebook",
   "language": "python",
   "name": "notebook"
  },
  "language_info": {
   "codemirror_mode": {
    "name": "ipython",
    "version": 3
   },
   "file_extension": ".py",
   "mimetype": "text/x-python",
   "name": "python",
   "nbconvert_exporter": "python",
   "pygments_lexer": "ipython3",
   "version": "3.9.13"
  },
  "toc": {
   "base_numbering": 1,
   "nav_menu": {},
   "number_sections": true,
   "sideBar": true,
   "skip_h1_title": false,
   "title_cell": "Table of Contents",
   "title_sidebar": "Contents",
   "toc_cell": false,
   "toc_position": {},
   "toc_section_display": true,
   "toc_window_display": false
  },
  "varInspector": {
   "cols": {
    "lenName": 16,
    "lenType": 16,
    "lenVar": 40
   },
   "kernels_config": {
    "python": {
     "delete_cmd_postfix": "",
     "delete_cmd_prefix": "del ",
     "library": "var_list.py",
     "varRefreshCmd": "print(var_dic_list())"
    },
    "r": {
     "delete_cmd_postfix": ") ",
     "delete_cmd_prefix": "rm(",
     "library": "var_list.r",
     "varRefreshCmd": "cat(var_dic_list()) "
    }
   },
   "types_to_exclude": [
    "module",
    "function",
    "builtin_function_or_method",
    "instance",
    "_Feature"
   ],
   "window_display": false
  }
 },
 "nbformat": 4,
 "nbformat_minor": 5
}
