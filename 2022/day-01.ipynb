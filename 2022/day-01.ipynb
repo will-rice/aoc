{
 "cells": [
  {
   "cell_type": "markdown",
   "id": "442c09f3",
   "metadata": {},
   "source": [
    "# Advent of Code 2022"
   ]
  },
  {
   "cell_type": "markdown",
   "id": "955a455b",
   "metadata": {},
   "source": [
    "## Day 1"
   ]
  },
  {
   "cell_type": "markdown",
   "id": "ce9220e2",
   "metadata": {},
   "source": [
    "### Part 1"
   ]
  },
  {
   "cell_type": "code",
   "execution_count": 1,
   "id": "20fb8bea",
   "metadata": {
    "ExecuteTime": {
     "end_time": "2022-12-01T22:09:54.432449Z",
     "start_time": "2022-12-01T22:09:54.426344Z"
    }
   },
   "outputs": [
    {
     "data": {
      "text/plain": [
       "71124"
      ]
     },
     "execution_count": 1,
     "metadata": {},
     "output_type": "execute_result"
    }
   ],
   "source": [
    "with open(\"./data/1-1.txt\") as file:\n",
    "    lines = [l.strip() for l in file.readlines()]\n",
    "\n",
    "maximum_calories = 0\n",
    "total_cal_per_elf = 0\n",
    "for line in lines:\n",
    "    if line:\n",
    "        total_cal_per_elf += int(line)\n",
    "    else:\n",
    "        # reset the total per elf\n",
    "        total_cal_per_elf = 0\n",
    "\n",
    "    maximum_calories = max(maximum_calories, total_cal_per_elf)\n",
    "\n",
    "maximum_calories"
   ]
  },
  {
   "cell_type": "markdown",
   "id": "093fcccc",
   "metadata": {},
   "source": [
    "### Part 2"
   ]
  },
  {
   "cell_type": "code",
   "execution_count": 2,
   "id": "c4b7c462",
   "metadata": {
    "ExecuteTime": {
     "end_time": "2022-12-01T22:09:54.437131Z",
     "start_time": "2022-12-01T22:09:54.433376Z"
    }
   },
   "outputs": [
    {
     "data": {
      "text/plain": [
       "204639"
      ]
     },
     "execution_count": 2,
     "metadata": {},
     "output_type": "execute_result"
    }
   ],
   "source": [
    "with open(\"./data/1-1.txt\") as file:\n",
    "    lines = [l.strip() for l in file.readlines()]\n",
    "    \n",
    "maximum_calories = []\n",
    "total_cal_per_elf = 0\n",
    "for line in lines:\n",
    "    if line:\n",
    "        total_cal_per_elf += int(line)\n",
    "    else:\n",
    "        maximum_calories.append(total_cal_per_elf)\n",
    "        # reset the total per elf\n",
    "        total_cal_per_elf = 0\n",
    "\n",
    "\n",
    "sum(sorted(maximum_calories)[-3:])"
   ]
  }
 ],
 "metadata": {
  "kernelspec": {
   "display_name": "notebook",
   "language": "python",
   "name": "notebook"
  },
  "language_info": {
   "codemirror_mode": {
    "name": "ipython",
    "version": 3
   },
   "file_extension": ".py",
   "mimetype": "text/x-python",
   "name": "python",
   "nbconvert_exporter": "python",
   "pygments_lexer": "ipython3",
   "version": "3.9.13"
  },
  "toc": {
   "base_numbering": 1,
   "nav_menu": {},
   "number_sections": true,
   "sideBar": true,
   "skip_h1_title": false,
   "title_cell": "Table of Contents",
   "title_sidebar": "Contents",
   "toc_cell": false,
   "toc_position": {},
   "toc_section_display": true,
   "toc_window_display": false
  }
 },
 "nbformat": 4,
 "nbformat_minor": 5
}
