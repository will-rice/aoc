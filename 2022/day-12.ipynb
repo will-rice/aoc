{
 "cells": [
  {
   "cell_type": "markdown",
   "id": "442c09f3",
   "metadata": {},
   "source": [
    "# Advent of Code 2022"
   ]
  },
  {
   "cell_type": "markdown",
   "id": "955a455b",
   "metadata": {},
   "source": [
    "## Day 12"
   ]
  },
  {
   "cell_type": "markdown",
   "id": "ce9220e2",
   "metadata": {},
   "source": [
    "### Part 1"
   ]
  },
  {
   "cell_type": "code",
   "execution_count": 18,
   "id": "c804690b",
   "metadata": {
    "ExecuteTime": {
     "end_time": "2022-12-12T16:33:15.184881Z",
     "start_time": "2022-12-12T16:33:15.149717Z"
    }
   },
   "outputs": [
    {
     "ename": "TypeError",
     "evalue": "unsupported operand type(s) for -: 'tuple' and 'tuple'",
     "output_type": "error",
     "traceback": [
      "\u001b[0;31m---------------------------------------------------------------------------\u001b[0m",
      "\u001b[0;31mTypeError\u001b[0m                                 Traceback (most recent call last)",
      "Cell \u001b[0;32mIn[18], line 14\u001b[0m\n\u001b[1;32m     12\u001b[0m start \u001b[38;5;241m=\u001b[39m np\u001b[38;5;241m.\u001b[39mwhere(lines \u001b[38;5;241m==\u001b[39m \u001b[38;5;124m\"\u001b[39m\u001b[38;5;124mS\u001b[39m\u001b[38;5;124m\"\u001b[39m)\n\u001b[1;32m     13\u001b[0m end \u001b[38;5;241m=\u001b[39m np\u001b[38;5;241m.\u001b[39mwhere(lines \u001b[38;5;241m==\u001b[39m \u001b[38;5;124m\"\u001b[39m\u001b[38;5;124mE\u001b[39m\u001b[38;5;124m\"\u001b[39m)\n\u001b[0;32m---> 14\u001b[0m manhattan \u001b[38;5;241m=\u001b[39m np\u001b[38;5;241m.\u001b[39mabs(\u001b[43mstart\u001b[49m\u001b[43m \u001b[49m\u001b[38;5;241;43m-\u001b[39;49m\u001b[43m \u001b[49m\u001b[43mend\u001b[49m)\n\u001b[1;32m     15\u001b[0m \u001b[38;5;28mprint\u001b[39m(manhattan)\n\u001b[1;32m     17\u001b[0m \u001b[38;5;28;01mfor\u001b[39;00m i \u001b[38;5;129;01min\u001b[39;00m \u001b[38;5;28mrange\u001b[39m(\u001b[38;5;28mlen\u001b[39m(lines)):\n",
      "\u001b[0;31mTypeError\u001b[0m: unsupported operand type(s) for -: 'tuple' and 'tuple'"
     ]
    }
   ],
   "source": [
    "import numpy as np\n",
    "\n",
    "lines = \"\"\"Sabqponm\n",
    "abcryxxl\n",
    "accszExk\n",
    "acctuvwj\n",
    "abdefghi\"\"\"\n",
    "\n",
    "lines = np.array([list(line) for line in lines.split(\"\\n\")])\n",
    "\n",
    "\n",
    "start = np.where(lines == \"S\")\n",
    "end = np.where(lines == \"E\")\n",
    "manhattan = np.abs(start - end)\n",
    "print(manhattan)\n",
    "\n",
    "for i in range(len(lines)):\n",
    "    for j in range(len(lines[i]) - 1):\n",
    "        current = lines[i][j]\n",
    "        if current == \"S\":\n",
    "            print(i, j)\n",
    "        up = lines[i+1][j]\n",
    "        down = lines[i-1][j]\n",
    "        left = lines[i][j-1]\n",
    "        right = lines[i][j+1]\n",
    "        \n",
    "        print(up, down, left, right)"
   ]
  },
  {
   "cell_type": "code",
   "execution_count": 51,
   "id": "dc1a6188",
   "metadata": {
    "ExecuteTime": {
     "end_time": "2022-12-10T23:46:04.190476Z",
     "start_time": "2022-12-10T23:46:04.171102Z"
    }
   },
   "outputs": [
    {
     "data": {
      "text/plain": [
       "13140"
      ]
     },
     "execution_count": 51,
     "metadata": {},
     "output_type": "execute_result"
    }
   ],
   "source": [
    "lines = \"\"\"addx 15\n",
    "addx -11\n",
    "addx 6\n",
    "addx -3\n",
    "addx 5\n",
    "addx -1\n",
    "addx -8\n",
    "addx 13\n",
    "addx 4\n",
    "noop\n",
    "addx -1\n",
    "addx 5\n",
    "addx -1\n",
    "addx 5\n",
    "addx -1\n",
    "addx 5\n",
    "addx -1\n",
    "addx 5\n",
    "addx -1\n",
    "addx -35\n",
    "addx 1\n",
    "addx 24\n",
    "addx -19\n",
    "addx 1\n",
    "addx 16\n",
    "addx -11\n",
    "noop\n",
    "noop\n",
    "addx 21\n",
    "addx -15\n",
    "noop\n",
    "noop\n",
    "addx -3\n",
    "addx 9\n",
    "addx 1\n",
    "addx -3\n",
    "addx 8\n",
    "addx 1\n",
    "addx 5\n",
    "noop\n",
    "noop\n",
    "noop\n",
    "noop\n",
    "noop\n",
    "addx -36\n",
    "noop\n",
    "addx 1\n",
    "addx 7\n",
    "noop\n",
    "noop\n",
    "noop\n",
    "addx 2\n",
    "addx 6\n",
    "noop\n",
    "noop\n",
    "noop\n",
    "noop\n",
    "noop\n",
    "addx 1\n",
    "noop\n",
    "noop\n",
    "addx 7\n",
    "addx 1\n",
    "noop\n",
    "addx -13\n",
    "addx 13\n",
    "addx 7\n",
    "noop\n",
    "addx 1\n",
    "addx -33\n",
    "noop\n",
    "noop\n",
    "noop\n",
    "addx 2\n",
    "noop\n",
    "noop\n",
    "noop\n",
    "addx 8\n",
    "noop\n",
    "addx -1\n",
    "addx 2\n",
    "addx 1\n",
    "noop\n",
    "addx 17\n",
    "addx -9\n",
    "addx 1\n",
    "addx 1\n",
    "addx -3\n",
    "addx 11\n",
    "noop\n",
    "noop\n",
    "addx 1\n",
    "noop\n",
    "addx 1\n",
    "noop\n",
    "noop\n",
    "addx -13\n",
    "addx -19\n",
    "addx 1\n",
    "addx 3\n",
    "addx 26\n",
    "addx -30\n",
    "addx 12\n",
    "addx -1\n",
    "addx 3\n",
    "addx 1\n",
    "noop\n",
    "noop\n",
    "noop\n",
    "addx -9\n",
    "addx 18\n",
    "addx 1\n",
    "addx 2\n",
    "noop\n",
    "noop\n",
    "addx 9\n",
    "noop\n",
    "noop\n",
    "noop\n",
    "addx -1\n",
    "addx 2\n",
    "addx -37\n",
    "addx 1\n",
    "addx 3\n",
    "noop\n",
    "addx 15\n",
    "addx -21\n",
    "addx 22\n",
    "addx -6\n",
    "addx 1\n",
    "noop\n",
    "addx 2\n",
    "addx 1\n",
    "noop\n",
    "addx -10\n",
    "noop\n",
    "noop\n",
    "addx 20\n",
    "addx 1\n",
    "addx 2\n",
    "addx 2\n",
    "addx -6\n",
    "addx -11\n",
    "noop\n",
    "noop\n",
    "noop\"\"\"\n",
    "\n",
    "lines = [line.split() for line in lines.split(\"\\n\")]\n",
    "\n",
    "\n",
    "x = 1\n",
    "cycle_counter = 1\n",
    "power_at_cycle = []\n",
    "cycles_to_sample = {20, 60, 100, 140, 180, 220}\n",
    "for line in lines:\n",
    "\n",
    "    if cycle_counter in cycles_to_sample:\n",
    "        power_at_cycle.append(x * cycle_counter)\n",
    "\n",
    "    cycle_counter += 1\n",
    "\n",
    "    if line[0] == \"addx\":\n",
    "\n",
    "        if cycle_counter in cycles_to_sample:\n",
    "            power_at_cycle.append(x * cycle_counter)\n",
    "\n",
    "        x += int(line[1])\n",
    "\n",
    "        cycle_counter += 1\n",
    "\n",
    "\n",
    "sum(power_at_cycle)"
   ]
  },
  {
   "cell_type": "markdown",
   "id": "c3ae0fab",
   "metadata": {},
   "source": [
    "Find the signal strength during the 20th, 60th, 100th, 140th, 180th, and 220th cycles. What is the sum of these six signal strengths?"
   ]
  },
  {
   "cell_type": "code",
   "execution_count": 52,
   "id": "f40bda98",
   "metadata": {
    "ExecuteTime": {
     "end_time": "2022-12-10T23:47:07.716576Z",
     "start_time": "2022-12-10T23:47:07.692629Z"
    }
   },
   "outputs": [
    {
     "data": {
      "text/plain": [
       "11780"
      ]
     },
     "execution_count": 52,
     "metadata": {},
     "output_type": "execute_result"
    }
   ],
   "source": [
    "with open(\"data/10.txt\") as file:\n",
    "    lines = [line.strip().split() for line in file.readlines()]\n",
    "    \n",
    "x = 1\n",
    "cycle_counter = 1\n",
    "power_at_cycle = []\n",
    "cycles_to_sample = {20, 60, 100, 140, 180, 220}\n",
    "for line in lines:\n",
    "\n",
    "    if cycle_counter in cycles_to_sample:\n",
    "        power_at_cycle.append(x * cycle_counter)\n",
    "\n",
    "    cycle_counter += 1\n",
    "\n",
    "    if line[0] == \"addx\":\n",
    "\n",
    "        if cycle_counter in cycles_to_sample:\n",
    "            power_at_cycle.append(x * cycle_counter)\n",
    "\n",
    "        x += int(line[1])\n",
    "\n",
    "        cycle_counter += 1\n",
    "        \n",
    "sum(power_at_cycle)"
   ]
  },
  {
   "cell_type": "code",
   "execution_count": 18,
   "id": "8320b4cc",
   "metadata": {
    "ExecuteTime": {
     "end_time": "2022-12-09T21:25:14.286721Z",
     "start_time": "2022-12-09T21:25:14.272691Z"
    }
   },
   "outputs": [
    {
     "name": "stdout",
     "output_type": "stream",
     "text": [
      "7\n",
      "[0 7]\n"
     ]
    },
    {
     "data": {
      "text/plain": [
       "array([0, 6])"
      ]
     },
     "execution_count": 18,
     "metadata": {},
     "output_type": "execute_result"
    }
   ],
   "source": []
  },
  {
   "cell_type": "code",
   "execution_count": 21,
   "id": "20fb8bea",
   "metadata": {
    "ExecuteTime": {
     "end_time": "2022-12-09T21:31:55.482280Z",
     "start_time": "2022-12-09T21:31:55.457622Z"
    }
   },
   "outputs": [
    {
     "data": {
      "text/plain": [
       "221"
      ]
     },
     "execution_count": 21,
     "metadata": {},
     "output_type": "execute_result"
    }
   ],
   "source": []
  },
  {
   "cell_type": "code",
   "execution_count": null,
   "id": "462c0b6c",
   "metadata": {},
   "outputs": [],
   "source": []
  },
  {
   "cell_type": "markdown",
   "id": "093fcccc",
   "metadata": {},
   "source": [
    "### Part 2"
   ]
  },
  {
   "cell_type": "markdown",
   "id": "5a9acaa1",
   "metadata": {
    "ExecuteTime": {
     "end_time": "2022-12-06T13:51:08.560358Z",
     "start_time": "2022-12-06T13:51:08.546730Z"
    }
   },
   "source": [
    "\n"
   ]
  }
 ],
 "metadata": {
  "kernelspec": {
   "display_name": "notebook",
   "language": "python",
   "name": "notebook"
  },
  "language_info": {
   "codemirror_mode": {
    "name": "ipython",
    "version": 3
   },
   "file_extension": ".py",
   "mimetype": "text/x-python",
   "name": "python",
   "nbconvert_exporter": "python",
   "pygments_lexer": "ipython3",
   "version": "3.9.15"
  },
  "toc": {
   "base_numbering": 1,
   "nav_menu": {},
   "number_sections": true,
   "sideBar": true,
   "skip_h1_title": false,
   "title_cell": "Table of Contents",
   "title_sidebar": "Contents",
   "toc_cell": false,
   "toc_position": {},
   "toc_section_display": true,
   "toc_window_display": false
  },
  "varInspector": {
   "cols": {
    "lenName": 16,
    "lenType": 16,
    "lenVar": 40
   },
   "kernels_config": {
    "python": {
     "delete_cmd_postfix": "",
     "delete_cmd_prefix": "del ",
     "library": "var_list.py",
     "varRefreshCmd": "print(var_dic_list())"
    },
    "r": {
     "delete_cmd_postfix": ") ",
     "delete_cmd_prefix": "rm(",
     "library": "var_list.r",
     "varRefreshCmd": "cat(var_dic_list()) "
    }
   },
   "types_to_exclude": [
    "module",
    "function",
    "builtin_function_or_method",
    "instance",
    "_Feature"
   ],
   "window_display": false
  }
 },
 "nbformat": 4,
 "nbformat_minor": 5
}
