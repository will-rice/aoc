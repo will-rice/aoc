{
 "cells": [
  {
   "cell_type": "code",
   "execution_count": 11,
   "id": "c9647536-4c57-4794-95b2-a9e14966fe51",
   "metadata": {},
   "outputs": [
    {
     "data": {
      "text/plain": [
       "6440"
      ]
     },
     "execution_count": 11,
     "metadata": {},
     "output_type": "execute_result"
    }
   ],
   "source": [
    "from collections import Counter\n",
    "\n",
    "sample = [\n",
    "    \"32T3K 765\",\n",
    "    \"T55J5 684\",\n",
    "    \"KK677 28\",\n",
    "    \"KTJJT 220\",\n",
    "    \"QQQJA 483\",\n",
    "]\n",
    "letter_map = {\"T\": \"A\", \"J\": \"B\", \"Q\": \"C\", \"K\": \"D\", \"A\": \"E\"}\n",
    "\n",
    "def classify(hand):\n",
    "    counts = [hand.count(card) for card in hand]\n",
    "    \n",
    "    if 5 in counts:\n",
    "        return 6\n",
    "    if 4 in counts:\n",
    "        return 5\n",
    "    if 3 in counts:\n",
    "        if 2 in counts:\n",
    "            return 4\n",
    "        return 3\n",
    "    if counts.count(2) == 4:\n",
    "        return 2\n",
    "    if 2 in counts:\n",
    "        return 1\n",
    "    return 0\n",
    "\n",
    "def strength(hand):\n",
    "    return (classify(hand), [letter_map.get(l, l) for l in hand])\n",
    "\n",
    "plays = []\n",
    "for line in sample:\n",
    "    hand, bid = line.split()\n",
    "    plays.append((hand, int(bid)))\n",
    "    \n",
    "plays.sort(key=lambda x: strength(x[0]))\n",
    "plays\n",
    "\n",
    "total = 0\n",
    "for rank, (hand, bid) in enumerate(plays, 1):\n",
    "    total += rank * bid\n",
    "total"
   ]
  },
  {
   "cell_type": "code",
   "execution_count": 12,
   "id": "f3ff917e-cfc8-419c-a5c7-d0be8bcf3eea",
   "metadata": {},
   "outputs": [
    {
     "data": {
      "text/plain": [
       "249483956"
      ]
     },
     "execution_count": 12,
     "metadata": {},
     "output_type": "execute_result"
    }
   ],
   "source": [
    "with open(\"data/7.txt\") as file:\n",
    "    lines = [l.strip() for l in file.readlines()]\n",
    "\n",
    "plays = []\n",
    "for line in lines:\n",
    "    hand, bid = line.split()\n",
    "    plays.append((hand, int(bid)))\n",
    "    \n",
    "plays.sort(key=lambda x: strength(x[0]))\n",
    "plays\n",
    "\n",
    "total = 0\n",
    "for rank, (hand, bid) in enumerate(plays, 1):\n",
    "    total += rank * bid\n",
    "total"
   ]
  },
  {
   "cell_type": "code",
   "execution_count": 13,
   "id": "d409fabf-2022-457a-817c-df7d1f145495",
   "metadata": {},
   "outputs": [
    {
     "name": "stdout",
     "output_type": "stream",
     "text": [
      "252137472\n"
     ]
    }
   ],
   "source": [
    "with open(\"data/7.txt\") as file:\n",
    "    lines = [l.strip() for l in file.readlines()]\n",
    "\n",
    "letter_map = {\"T\": \"A\", \"J\": \".\", \"Q\": \"C\", \"K\": \"D\", \"A\": \"E\"}\n",
    "\n",
    "\n",
    "def score(hand):\n",
    "    counts = [hand.count(card) for card in hand]\n",
    "\n",
    "    if 5 in counts:\n",
    "        return 6\n",
    "    if 4 in counts:\n",
    "        return 5\n",
    "    if 3 in counts:\n",
    "        if 2 in counts:\n",
    "            return 4\n",
    "        return 3\n",
    "    if counts.count(2) == 4:\n",
    "        return 2\n",
    "    if 2 in counts:\n",
    "        return 1\n",
    "    return 0\n",
    "\n",
    "\n",
    "def replacements(hand):\n",
    "    if hand == \"\":\n",
    "        return [\"\"]\n",
    "\n",
    "    return [\n",
    "        x + y\n",
    "        for x in (\"23456789TQKA\" if hand[0] == \"J\" else hand[0])\n",
    "        for y in replacements(hand[1:])\n",
    "    ]\n",
    "\n",
    "\n",
    "def classify(hand):\n",
    "    return max(map(score, replacements(hand)))\n",
    "\n",
    "\n",
    "def strength(hand):\n",
    "    return (classify(hand), [letter_map.get(card, card) for card in hand])\n",
    "\n",
    "\n",
    "plays = []\n",
    "\n",
    "for line in lines:\n",
    "    hand, bid = line.split()\n",
    "    plays.append((hand, int(bid)))\n",
    "\n",
    "plays.sort(key=lambda play: strength(play[0]))\n",
    "\n",
    "total = 0\n",
    "\n",
    "for rank, (hand, bid) in enumerate(plays, 1):\n",
    "    total += rank * bid\n",
    "\n",
    "print(total)"
   ]
  }
 ],
 "metadata": {
  "kernelspec": {
   "display_name": "Python 3 (ipykernel)",
   "language": "python",
   "name": "python3"
  },
  "language_info": {
   "codemirror_mode": {
    "name": "ipython",
    "version": 3
   },
   "file_extension": ".py",
   "mimetype": "text/x-python",
   "name": "python",
   "nbconvert_exporter": "python",
   "pygments_lexer": "ipython3",
   "version": "3.11.5"
  }
 },
 "nbformat": 4,
 "nbformat_minor": 5
}
