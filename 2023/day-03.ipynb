{
 "cells": [
  {
   "cell_type": "code",
   "execution_count": 2,
   "id": "57c87d51-7fcf-49a3-a62a-6ce2671dfdd5",
   "metadata": {},
   "outputs": [
    {
     "data": {
      "text/plain": [
       "550064"
      ]
     },
     "execution_count": 2,
     "metadata": {},
     "output_type": "execute_result"
    }
   ],
   "source": [
    "with open(\"data/3.txt\") as file:\n",
    "    grid = file.read().splitlines()\n",
    "\n",
    "cs = set()\n",
    "for r, row in enumerate(grid):\n",
    "    for c, ch in enumerate(row):\n",
    "        if ch.isdigit() or ch == \".\":\n",
    "            continue\n",
    "        for cr in [r - 1, r, r + 1]:\n",
    "            for cc in [c - 1, c, c + 1]:\n",
    "                if (\n",
    "                    cr < 0\n",
    "                    or cr >= len(grid)\n",
    "                    or cc < 0\n",
    "                    or cc >= len(grid[cr])\n",
    "                    or not grid[cr][cc].isdigit()\n",
    "                ):\n",
    "                    continue\n",
    "                while cc > 0 and grid[cr][cc - 1].isdigit():\n",
    "                    cc -= 1\n",
    "                cs.add((cr, cc))\n",
    "\n",
    "ns = []\n",
    "for r, c in cs:\n",
    "    s = \"\"\n",
    "    while c < len(grid[r]) and grid[r][c].isdigit():\n",
    "        s += grid[r][c]\n",
    "        c += 1\n",
    "    ns.append(int(s))\n",
    "\n",
    "sum(ns)"
   ]
  },
  {
   "cell_type": "code",
   "execution_count": 6,
   "id": "b59dd382-728d-47fa-a2f1-9236f588a7d9",
   "metadata": {},
   "outputs": [
    {
     "data": {
      "text/plain": [
       "85010461"
      ]
     },
     "execution_count": 6,
     "metadata": {},
     "output_type": "execute_result"
    }
   ],
   "source": [
    "total = 0\n",
    "for r, row in enumerate(grid):\n",
    "    for c, ch in enumerate(row):\n",
    "        if ch != \"*\":\n",
    "            continue\n",
    "\n",
    "        cs = set()\n",
    "\n",
    "        for cr in [r - 1, r, r + 1]:\n",
    "            for cc in [c - 1, c, c + 1]:\n",
    "                if (\n",
    "                    cr < 0\n",
    "                    or cr >= len(grid)\n",
    "                    or cc < 0\n",
    "                    or cc >= len(grid[cr])\n",
    "                    or not grid[cr][cc].isdigit()\n",
    "                ):\n",
    "                    continue\n",
    "                while cc > 0 and grid[cr][cc - 1].isdigit():\n",
    "                    cc -= 1\n",
    "                cs.add((cr, cc))\n",
    "\n",
    "        if len(cs) != 2:\n",
    "            continue\n",
    "\n",
    "        ns = []\n",
    "        for cr, cc in cs:\n",
    "            s = \"\"\n",
    "            while cc < len(grid[cr]) and grid[cr][cc].isdigit():\n",
    "                s += grid[cr][cc]\n",
    "                cc += 1\n",
    "            ns.append(int(s))\n",
    "\n",
    "        total += ns[0] * ns[1]\n",
    "\n",
    "total"
   ]
  }
 ],
 "metadata": {
  "kernelspec": {
   "display_name": "Python 3 (ipykernel)",
   "language": "python",
   "name": "python3"
  },
  "language_info": {
   "codemirror_mode": {
    "name": "ipython",
    "version": 3
   },
   "file_extension": ".py",
   "mimetype": "text/x-python",
   "name": "python",
   "nbconvert_exporter": "python",
   "pygments_lexer": "ipython3",
   "version": "3.11.5"
  }
 },
 "nbformat": 4,
 "nbformat_minor": 5
}
