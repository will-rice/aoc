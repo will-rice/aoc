{
 "cells": [
  {
   "cell_type": "code",
   "execution_count": 38,
   "id": "83a1224e-6690-4d96-9a1f-f50450798156",
   "metadata": {},
   "outputs": [
    {
     "data": {
      "text/plain": [
       "54331"
      ]
     },
     "execution_count": 38,
     "metadata": {},
     "output_type": "execute_result"
    }
   ],
   "source": [
    "with open(\"data/1.txt\") as file:\n",
    "    lines = [l.strip() for l in file.readlines()]\n",
    "\n",
    "total = 0\n",
    "for line in lines:\n",
    "    row = \"\"\n",
    "    for ch in line:\n",
    "        if ch.isnumeric():\n",
    "            row = row + ch\n",
    "    total += int(row[0] + row[-1])\n",
    "\n",
    "total"
   ]
  },
  {
   "cell_type": "code",
   "execution_count": 54,
   "id": "85a98d65-6bc9-4809-a79e-89d025571f26",
   "metadata": {},
   "outputs": [
    {
     "data": {
      "text/plain": [
       "54518"
      ]
     },
     "execution_count": 54,
     "metadata": {},
     "output_type": "execute_result"
    }
   ],
   "source": [
    "with open(\"data/1.txt\") as file:\n",
    "    lines = [l.strip() for l in file.readlines()]\n",
    "\n",
    "sample = [\n",
    "    \"two1nine\",\n",
    "    \"eightwothree\",\n",
    "    \"abcone2threexyz\",\n",
    "    \"xtwone3four\",\n",
    "    \"4nineeightseven2\",\n",
    "    \"zoneight234\",\n",
    "    \"7pqrstsixteen\",\n",
    "]\n",
    "\n",
    "word2num = {\n",
    "    \"one\": \"1\",\n",
    "    \"two\": \"2\",\n",
    "    \"three\": \"3\",\n",
    "    \"four\": \"4\",\n",
    "    \"five\": \"5\",\n",
    "    \"six\": \"6\",\n",
    "    \"seven\": \"7\",\n",
    "    \"eight\": \"8\",\n",
    "    \"nine\": \"9\",\n",
    "}\n",
    "\n",
    "def parse_line(line):\n",
    "    row = \"\"\n",
    "    candidates = re.findall(r\"(?=(one|two|three|four|five|six|seven|eight|nine|[0-9]))\", line)\n",
    "    for candidate in candidates:\n",
    "        if candidate in word2num:\n",
    "            row += word2num[candidate]\n",
    "        else:\n",
    "            row += candidate\n",
    "    return row\n",
    "\n",
    "total = 0\n",
    "for line in lines:\n",
    "    row = parse_line(line)\n",
    "    total += int(row[0] + row[-1])\n",
    "\n",
    "total"
   ]
  }
 ],
 "metadata": {
  "kernelspec": {
   "display_name": "Python 3 (ipykernel)",
   "language": "python",
   "name": "python3"
  },
  "language_info": {
   "codemirror_mode": {
    "name": "ipython",
    "version": 3
   },
   "file_extension": ".py",
   "mimetype": "text/x-python",
   "name": "python",
   "nbconvert_exporter": "python",
   "pygments_lexer": "ipython3",
   "version": "3.11.5"
  }
 },
 "nbformat": 4,
 "nbformat_minor": 5
}
