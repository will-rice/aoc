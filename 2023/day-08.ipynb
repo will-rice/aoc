{
 "cells": [
  {
   "cell_type": "code",
   "execution_count": 31,
   "id": "1a7ae180-cdb3-46a1-aecb-9f419275c75a",
   "metadata": {},
   "outputs": [],
   "source": [
    "sample = \"\"\"LLR\n",
    "\n",
    "AAA = (BBB, BBB)\n",
    "BBB = (AAA, ZZZ)\n",
    "ZZZ = (ZZZ, ZZZ)\"\"\"\n",
    "\n",
    "\n",
    "def get_steps(data):\n",
    "    directions, nodes = data.split(\"\\n\\n\")\n",
    "    directions = list(directions)\n",
    "    nodes = nodes.split(\"\\n\")\n",
    "    node_map = {}\n",
    "    for node in nodes:\n",
    "        name, nexts = node.split(\"=\")\n",
    "        node_map[name.replace(\" \", \"\")] = (\n",
    "            nexts.replace(\")\", \"\").replace(\"(\", \"\").replace(\" \", \"\").split(\",\")\n",
    "        )\n",
    "\n",
    "    steps = 0\n",
    "    node = \"AAA\"\n",
    "    while node != \"ZZZ\":\n",
    "        for direction in directions:\n",
    "            next_nodes = node_map[node]\n",
    "            if direction == \"L\":\n",
    "                node = next_nodes[0]\n",
    "            else:\n",
    "                node = next_nodes[1]\n",
    "\n",
    "            steps += 1\n",
    "    return steps\n",
    "\n",
    "\n",
    "assert get_steps(sample) == 6"
   ]
  },
  {
   "cell_type": "code",
   "execution_count": 32,
   "id": "f83aa5ce-08de-4bc3-a796-51c564610221",
   "metadata": {},
   "outputs": [
    {
     "data": {
      "text/plain": [
       "14681"
      ]
     },
     "execution_count": 32,
     "metadata": {},
     "output_type": "execute_result"
    }
   ],
   "source": [
    "with open(\"data/8.txt\") as file:\n",
    "    data = file.read()\n",
    "\n",
    "get_steps(data)"
   ]
  },
  {
   "cell_type": "code",
   "execution_count": 41,
   "id": "550803fc-a18a-4f4e-871d-fbf2900cdfc2",
   "metadata": {},
   "outputs": [
    {
     "data": {
      "text/plain": [
       "6"
      ]
     },
     "execution_count": 41,
     "metadata": {},
     "output_type": "execute_result"
    }
   ],
   "source": [
    "sample = \"\"\"LR\n",
    "\n",
    "11A = (11B, XXX)\n",
    "11B = (XXX, 11Z)\n",
    "11Z = (11B, XXX)\n",
    "22A = (22B, XXX)\n",
    "22B = (22C, 22C)\n",
    "22C = (22Z, 22Z)\n",
    "22Z = (22B, 22B)\n",
    "XXX = (XXX, XXX)\"\"\"\n",
    "\n",
    "\n",
    "def get_steps(data):\n",
    "    directions, nodes = data.split(\"\\n\\n\")\n",
    "    directions = list(directions)\n",
    "    nodes = nodes.split(\"\\n\")\n",
    "    node_map = {}\n",
    "    for node in nodes:\n",
    "        name, nexts = node.split(\"=\")\n",
    "        node_map[name.replace(\" \", \"\")] = (\n",
    "            nexts.replace(\")\", \"\").replace(\"(\", \"\").replace(\" \", \"\").split(\",\")\n",
    "        )\n",
    "\n",
    "    steps = 0\n",
    "    nodes = [n for n in node_map.keys() if n.endswith(\"A\")]\n",
    "    while not all([n.endswith(\"Z\") for n in nodes]):\n",
    "        for direction in directions:\n",
    "            new_nodes = []\n",
    "            for node in nodes:\n",
    "                next_nodes = node_map[node]\n",
    "                if direction == \"L\":\n",
    "                    node = next_nodes[0]\n",
    "                else:\n",
    "                    node = next_nodes[1]\n",
    "                new_nodes.append(node)\n",
    "            nodes = new_nodes\n",
    "\n",
    "            steps += 1\n",
    "    return steps\n",
    "\n",
    "\n",
    "get_steps(sample)"
   ]
  },
  {
   "cell_type": "code",
   "execution_count": 43,
   "id": "e9280075-4568-4f10-baa1-2c953727c78e",
   "metadata": {},
   "outputs": [
    {
     "name": "stdout",
     "output_type": "stream",
     "text": [
      "14321394058031\n"
     ]
    }
   ],
   "source": [
    "from math import gcd\n",
    "\n",
    "with open(\"data/8.txt\") as file:\n",
    "    data = file.read().splitlines()\n",
    "\n",
    "\n",
    "steps, _, *rest = data\n",
    "\n",
    "network = {}\n",
    "\n",
    "for line in rest:\n",
    "    pos, targets = line.split(\" = \")\n",
    "    network[pos] = targets[1:-1].split(\", \")\n",
    "\n",
    "positions = [key for key in network if key.endswith(\"A\")]\n",
    "cycles = []\n",
    "\n",
    "for current in positions:\n",
    "    cycle = []\n",
    "\n",
    "    current_steps = steps\n",
    "    step_count = 0\n",
    "    first_z = None\n",
    "\n",
    "    while True:\n",
    "        while step_count == 0 or not current.endswith(\"Z\"):\n",
    "            step_count += 1\n",
    "            current = network[current][0 if current_steps[0] == \"L\" else 1]\n",
    "            current_steps = current_steps[1:] + current_steps[0]\n",
    "\n",
    "        cycle.append(step_count)\n",
    "\n",
    "        if first_z is None:\n",
    "            first_z = current\n",
    "            step_count = 0\n",
    "        elif current == first_z:\n",
    "            break\n",
    "\n",
    "    cycles.append(cycle)\n",
    "\n",
    "nums = [cycle[0] for cycle in cycles]\n",
    "\n",
    "lcm = nums.pop()\n",
    "\n",
    "for num in nums:\n",
    "    lcm = lcm * num // gcd(lcm, num)\n",
    "\n",
    "print(lcm)"
   ]
  }
 ],
 "metadata": {
  "kernelspec": {
   "display_name": "Python 3 (ipykernel)",
   "language": "python",
   "name": "python3"
  },
  "language_info": {
   "codemirror_mode": {
    "name": "ipython",
    "version": 3
   },
   "file_extension": ".py",
   "mimetype": "text/x-python",
   "name": "python",
   "nbconvert_exporter": "python",
   "pygments_lexer": "ipython3",
   "version": "3.11.5"
  }
 },
 "nbformat": 4,
 "nbformat_minor": 5
}
