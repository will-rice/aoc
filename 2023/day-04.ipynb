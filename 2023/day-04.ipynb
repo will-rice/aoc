{
 "cells": [
  {
   "cell_type": "code",
   "execution_count": 7,
   "id": "9b8b4b05-5d49-42b7-be10-b735d978dc6f",
   "metadata": {},
   "outputs": [
    {
     "data": {
      "text/plain": [
       "13"
      ]
     },
     "execution_count": 7,
     "metadata": {},
     "output_type": "execute_result"
    }
   ],
   "source": [
    "sample = [\n",
    "    \"Card 1: 41 48 83 86 17 | 83 86  6 31 17  9 48 53\",\n",
    "    \"Card 2: 13 32 20 16 61 | 61 30 68 82 17 32 24 19\",\n",
    "    \"Card 3:  1 21 53 59 44 | 69 82 63 72 16 21 14  1\",\n",
    "    \"Card 4: 41 92 73 84 69 | 59 84 76 51 58  5 54 83\",\n",
    "    \"Card 5: 87 83 26 28 32 | 88 30 70 12 93 22 82 36\",\n",
    "    \"Card 6: 31 18 13 56 72 | 74 77 10 23 35 67 36 11\",\n",
    "]\n",
    "\n",
    "\n",
    "def total_points(cards):\n",
    "    total_score = 0\n",
    "    for card in cards:\n",
    "        name, numbers = card.split(\":\")\n",
    "        winning, draw = numbers.split(\"|\")\n",
    "        winning = set([int(i) for i in winning.split()])\n",
    "        card_score = 0\n",
    "        first_match = True\n",
    "        for number in draw.split():\n",
    "            if int(number) in winning:\n",
    "                if first_match:\n",
    "                    card_score += 1\n",
    "                    first_match = False\n",
    "                else:\n",
    "                    card_score *= 2\n",
    "\n",
    "        total_score += card_score\n",
    "    return total_score\n",
    "\n",
    "\n",
    "total_points(sample)"
   ]
  },
  {
   "cell_type": "code",
   "execution_count": 8,
   "id": "31554f78-525b-41e0-a949-6471ac124432",
   "metadata": {},
   "outputs": [
    {
     "data": {
      "text/plain": [
       "20855"
      ]
     },
     "execution_count": 8,
     "metadata": {},
     "output_type": "execute_result"
    }
   ],
   "source": [
    "with open(\"data/4.txt\") as file:\n",
    "    cards = [l.strip() for l in file.readlines()]\n",
    "\n",
    "\n",
    "total_points(cards)"
   ]
  },
  {
   "cell_type": "code",
   "execution_count": 49,
   "id": "f9a9983a-1e5c-495c-bd45-8f4863a14f05",
   "metadata": {},
   "outputs": [
    {
     "data": {
      "text/plain": [
       "30"
      ]
     },
     "execution_count": 49,
     "metadata": {},
     "output_type": "execute_result"
    }
   ],
   "source": [
    "from collections import defaultdict\n",
    "\n",
    "sample = [\n",
    "    \"Card 1: 41 48 83 86 17 | 83 86  6 31 17  9 48 53\",\n",
    "    \"Card 2: 13 32 20 16 61 | 61 30 68 82 17 32 24 19\",\n",
    "    \"Card 3:  1 21 53 59 44 | 69 82 63 72 16 21 14  1\",\n",
    "    \"Card 4: 41 92 73 84 69 | 59 84 76 51 58  5 54 83\",\n",
    "    \"Card 5: 87 83 26 28 32 | 88 30 70 12 93 22 82 36\",\n",
    "    \"Card 6: 31 18 13 56 72 | 74 77 10 23 35 67 36 11\",\n",
    "]\n",
    "\n",
    "\n",
    "def total_cards(cards):\n",
    "    counts = defaultdict(int)\n",
    "\n",
    "    for i, card in enumerate(cards):\n",
    "        counts[i] += 1\n",
    "        name, numbers = card.split(\":\")\n",
    "        winning, draw = numbers.split(\"|\")\n",
    "        winning = set([int(i) for i in winning.split()])\n",
    "        draw = set([int(i) for i in draw.split()])\n",
    "        num_wins = len(draw & winning)\n",
    "\n",
    "        for j in range(num_wins):\n",
    "            counts[i + j + 1] += counts[i]\n",
    "\n",
    "    return sum(counts.values())\n",
    "\n",
    "\n",
    "total_cards(sample)"
   ]
  },
  {
   "cell_type": "code",
   "execution_count": 50,
   "id": "a22a290a-05b7-4a92-bdf7-1dfbad261ad3",
   "metadata": {},
   "outputs": [
    {
     "data": {
      "text/plain": [
       "5489600"
      ]
     },
     "execution_count": 50,
     "metadata": {},
     "output_type": "execute_result"
    }
   ],
   "source": [
    "with open(\"data/4.txt\") as file:\n",
    "    cards = [l.strip() for l in file.readlines()]\n",
    "\n",
    "\n",
    "total_cards(cards)"
   ]
  }
 ],
 "metadata": {
  "kernelspec": {
   "display_name": "Python 3 (ipykernel)",
   "language": "python",
   "name": "python3"
  },
  "language_info": {
   "codemirror_mode": {
    "name": "ipython",
    "version": 3
   },
   "file_extension": ".py",
   "mimetype": "text/x-python",
   "name": "python",
   "nbconvert_exporter": "python",
   "pygments_lexer": "ipython3",
   "version": "3.11.5"
  }
 },
 "nbformat": 4,
 "nbformat_minor": 5
}
