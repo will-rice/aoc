{
 "cells": [
  {
   "cell_type": "code",
   "execution_count": 30,
   "id": "ae70363e-3f41-4ed3-8294-7c0d0744906a",
   "metadata": {},
   "outputs": [
    {
     "data": {
      "text/plain": [
       "2317"
      ]
     },
     "execution_count": 30,
     "metadata": {},
     "output_type": "execute_result"
    }
   ],
   "source": [
    "with open(\"data/2.txt\") as file:\n",
    "    games = [game.strip() for game in file.readlines()]\n",
    "\n",
    "total_colors = {\"red\": 12, \"green\": 13, \"blue\": 14}\n",
    "\n",
    "sample = [\n",
    "    \"Game 1: 3 blue, 4 red; 1 red, 2 green, 6 blue; 2 green\",\n",
    "    \"Game 2: 1 blue, 2 green; 3 green, 4 blue, 1 red; 1 green, 1 blue\",\n",
    "    \"Game 3: 8 green, 6 blue, 20 red; 5 blue, 4 red, 13 green; 5 green, 1 red\",\n",
    "    \"Game 4: 1 green, 3 red, 6 blue; 3 green, 6 red; 3 green, 15 blue, 14 red\",\n",
    "    \"Game 5: 6 red, 1 blue, 3 green; 2 blue, 1 red, 2 green\",\n",
    "]\n",
    "\n",
    "\n",
    "def total_valid_games(games):\n",
    "    game_ids = []\n",
    "    for game in games:\n",
    "        name, draws = game.split(\":\")\n",
    "\n",
    "        valid = True\n",
    "        for draw in draws.split(\";\"):\n",
    "            for selection in draw.split(\",\"):\n",
    "                num, color = selection.split()\n",
    "\n",
    "                if int(num) > total_colors[color]:\n",
    "                    valid = False\n",
    "\n",
    "        if valid:\n",
    "            game_id = int(name.split()[-1])\n",
    "            game_ids.append(game_id)\n",
    "\n",
    "    return sum(game_ids)\n",
    "\n",
    "\n",
    "assert total_valid_games(sample) == 8\n",
    "\n",
    "\n",
    "total_valid_games(games)"
   ]
  },
  {
   "cell_type": "code",
   "execution_count": 45,
   "id": "dbfe0c31-afcc-4e35-a071-2052de47b2ba",
   "metadata": {},
   "outputs": [
    {
     "data": {
      "text/plain": [
       "74804"
      ]
     },
     "execution_count": 45,
     "metadata": {},
     "output_type": "execute_result"
    }
   ],
   "source": [
    "import math\n",
    "\n",
    "with open(\"data/2.txt\") as file:\n",
    "    games = [game.strip() for game in file.readlines()]\n",
    "\n",
    "sample = [\n",
    "    \"Game 1: 3 blue, 4 red; 1 red, 2 green, 6 blue; 2 green\",\n",
    "    \"Game 2: 1 blue, 2 green; 3 green, 4 blue, 1 red; 1 green, 1 blue\",\n",
    "    \"Game 3: 8 green, 6 blue, 20 red; 5 blue, 4 red, 13 green; 5 green, 1 red\",\n",
    "    \"Game 4: 1 green, 3 red, 6 blue; 3 green, 6 red; 3 green, 15 blue, 14 red\",\n",
    "    \"Game 5: 6 red, 1 blue, 3 green; 2 blue, 1 red, 2 green\",\n",
    "]\n",
    "\n",
    "\n",
    "def total_power(games):\n",
    "    powers = []\n",
    "    for game in games:\n",
    "        name, draws = game.split(\":\")\n",
    "\n",
    "        num_cubes = {}\n",
    "        for draw in draws.split(\";\"):\n",
    "            for selection in draw.split(\",\"):\n",
    "                num, color = selection.split()\n",
    "                if color in num_cubes:\n",
    "                    num_cubes[color] = max(int(num), num_cubes[color])\n",
    "                else:\n",
    "                    num_cubes[color] = int(num)\n",
    "\n",
    "        powers.append(math.prod(num_cubes.values()))\n",
    "\n",
    "    return sum(powers)\n",
    "\n",
    "\n",
    "assert total_power(sample) == 2286\n",
    "\n",
    "\n",
    "total_power(games)"
   ]
  }
 ],
 "metadata": {
  "kernelspec": {
   "display_name": "Python 3 (ipykernel)",
   "language": "python",
   "name": "python3"
  },
  "language_info": {
   "codemirror_mode": {
    "name": "ipython",
    "version": 3
   },
   "file_extension": ".py",
   "mimetype": "text/x-python",
   "name": "python",
   "nbconvert_exporter": "python",
   "pygments_lexer": "ipython3",
   "version": "3.11.5"
  }
 },
 "nbformat": 4,
 "nbformat_minor": 5
}
