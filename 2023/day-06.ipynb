{
 "cells": [
  {
   "cell_type": "code",
   "execution_count": 25,
   "id": "4f15fff8-de18-43c3-99c0-dd414c6a9a9e",
   "metadata": {},
   "outputs": [
    {
     "data": {
      "text/plain": [
       "288"
      ]
     },
     "execution_count": 25,
     "metadata": {},
     "output_type": "execute_result"
    }
   ],
   "source": [
    "import math\n",
    "\n",
    "sample = [\n",
    "    \"Time: 7 15 30\",\n",
    "    \"Distance: 9 40 200\",\n",
    "]\n",
    "\n",
    "times = [int(i) for i in sample[0].split(\":\")[1].split()]\n",
    "distances = [int(i) for i in sample[1].split(\":\")[1].split()]\n",
    "\n",
    "def wins(time, distance):\n",
    "    wins = 0\n",
    "    for i in range(time+1):\n",
    "        hold_seconds = i\n",
    "        speed = i\n",
    "        travelled = (time - hold_seconds) * speed\n",
    "        if travelled > distance:\n",
    "            wins+=1\n",
    "    return wins\n",
    "\n",
    "total_wins = []\n",
    "for time, distance in zip(times, distances):\n",
    "    total_wins.append(wins(time, distance))\n",
    "\n",
    "math.prod(total_wins)"
   ]
  },
  {
   "cell_type": "code",
   "execution_count": 29,
   "id": "bbb4ec8d-28c6-4c9b-ba66-c2b8274248e9",
   "metadata": {},
   "outputs": [
    {
     "data": {
      "text/plain": [
       "36992486"
      ]
     },
     "execution_count": 29,
     "metadata": {},
     "output_type": "execute_result"
    }
   ],
   "source": [
    "with open(\"data/6.txt\") as file:\n",
    "    lines = [l.strip() for l in file.readlines()]\n",
    "\n",
    "time = int(\"\".join(lines[0].split(\":\")[1].split()))\n",
    "distance = int(\"\".join(lines[1].split(\":\")[1].split()))\n",
    "\n",
    "wins(time, distance)"
   ]
  }
 ],
 "metadata": {
  "kernelspec": {
   "display_name": "Python 3 (ipykernel)",
   "language": "python",
   "name": "python3"
  },
  "language_info": {
   "codemirror_mode": {
    "name": "ipython",
    "version": 3
   },
   "file_extension": ".py",
   "mimetype": "text/x-python",
   "name": "python",
   "nbconvert_exporter": "python",
   "pygments_lexer": "ipython3",
   "version": "3.11.5"
  }
 },
 "nbformat": 4,
 "nbformat_minor": 5
}
